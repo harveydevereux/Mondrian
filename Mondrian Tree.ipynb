{
 "cells": [
  {
   "cell_type": "code",
   "execution_count": 1,
   "metadata": {},
   "outputs": [
    {
     "data": {
      "text/plain": [
       "Mondrian_Tree"
      ]
     },
     "execution_count": 1,
     "metadata": {},
     "output_type": "execute_result"
    }
   ],
   "source": [
    "include(\"Axis_Aligned_Box.jl\");\n",
    "type Mondrian_Node\n",
    "    parent::Nullable{Mondrian_Node}\n",
    "    left::Nullable{Mondrian_Node}\n",
    "    right::Nullable{Mondrian_Node}\n",
    "    τ::Float64\n",
    "    node_type::Array{Bool,1}        # node,leaf,root\n",
    "    δ::Nullable{Int}                # split dimension\n",
    "    ζ::Nullable{Float64}            # split position\n",
    "    Θ::Nullable{Axis_Aligned_Box}   # data boxes B\n",
    "    tab::Array{Int}\n",
    "    c::Array{Int}\n",
    "    Gₚ::Array{Float64}\n",
    "end\n",
    "\n",
    "function Mondrian_Node()\n",
    "    N = Mondrian_Node(Nullable{Mondrian_Node}(),\n",
    "                      Nullable{Mondrian_Node}(),\n",
    "                      Nullable{Mondrian_Node}(),\n",
    "                      0,[true,false,false],\n",
    "                      Nullable{Int}(),\n",
    "                      Nullable{Float64}(),\n",
    "                      Nullable{Axis_Aligned_Box}(),\n",
    "                      Array{Int}(),\n",
    "                      Array{Int}(),\n",
    "                      Array{Float64}())\n",
    "    return N\n",
    "end\n",
    "\n",
    "function Mondrian_Node(τ::Float64)\n",
    "    N = Mondrian_Node(Nullable{Mondrian_Node}(),\n",
    "                      Nullable{Mondrian_Node}(),\n",
    "                      Nullable{Mondrian_Node}(),\n",
    "                      τ,[true,false,false],\n",
    "                      Nullable{Int}(),\n",
    "                      Nullable{Float64}(),\n",
    "                      Nullable{Axis_Aligned_Box}(),\n",
    "                      Array{Int}(),\n",
    "                      Array{Int}(),\n",
    "                      Array{Float64}())\n",
    "    return N\n",
    "end\n",
    "\n",
    "function Mondrian_Node(τ::Float64, node_type::Array{Bool,1})\n",
    "    N = Mondrian_Node(Nullable{Mondrian_Node}(),\n",
    "                      Nullable{Mondrian_Node}(),\n",
    "                      Nullable{Mondrian_Node}(),\n",
    "                      τ,\n",
    "                      node_type,\n",
    "                      Nullable{Int}(),\n",
    "                      Nullable{Float64}(),\n",
    "                      Nullable{Axis_Aligned_Box}(),\n",
    "                      Array{Int}(),\n",
    "                      Array{Int}(),\n",
    "                      Array{Float64}())\n",
    "    return N\n",
    "end\n",
    "\n",
    "type Mondrian_Tree\n",
    "    root::Nullable{Mondrian_Node}\n",
    "    leaves::Array{Mondrian_Node,1}\n",
    "end\n",
    "\n",
    "function Mondrian_Tree()\n",
    "    T = Mondrian_Tree(Nullable{Mondrian_Node}(),Array{Mondrian_Node,1}())\n",
    "end\n",
    "\n",
    "function Mondrian_Tree(N::Mondrian_Node)\n",
    "    T = Mondrian_Tree(N,Array{Mondrian_Node,1}())\n",
    "end"
   ]
  },
  {
   "cell_type": "code",
   "execution_count": 42,
   "metadata": {},
   "outputs": [
    {
     "data": {
      "text/plain": [
       "compute_predictive_posterior_distribution (generic function with 1 method)"
      ]
     },
     "execution_count": 42,
     "metadata": {},
     "output_type": "execute_result"
    }
   ],
   "source": [
    "using Distributions\n",
    "\n",
    "function Sample_Mondrian_Tree(λ,D)\n",
    "    δ = []\n",
    "    ζ = []\n",
    "    n = 1:size(D,1)\n",
    "    e = Mondrian_Node(0.0,[false,false,true])\n",
    "    T = Mondrian_Tree(e)\n",
    "    Θ = Axis_Aligned_Box(get_intervals(D[1]))\n",
    "    e.Θ = Θ\n",
    "    e.tab = zeros(size(unique(D[2]),1))\n",
    "    e.c = zeros(size(unique(D[2]),1))\n",
    "    e.Gₚ = zeros(size(unique(D[2]),1))\n",
    "    Sample_Mondrian_Block(e, Θ, λ, δ, ζ, T)\n",
    "    return T\n",
    "end\n",
    "\n",
    "function Sample_Mondrian_Block(j, Θ, λ, δ, ζ, tree)\n",
    "    E = rand(Exponential(1/Linear_dimension(Θ)))\n",
    "    if j.node_type[3]==true\n",
    "        τₚ = 0\n",
    "    else\n",
    "        τₚ = (get(j.parent)).τ\n",
    "    end\n",
    "    if τₚ + E < λ\n",
    "        d,x = sample_split_dimension(Θ)\n",
    "        j.δ = d\n",
    "        j.ζ = x\n",
    "        Θᴸ = copy(Θ)\n",
    "        Θᴿ = copy(Θ)\n",
    "        Θᴸ.Intervals[d,2]=x\n",
    "        Θᴿ.Intervals[d,1]=x\n",
    "        left = Mondrian_Node(τₚ+E, [true,false,false])\n",
    "        left.parent = j\n",
    "        left.Θ = Θᴸ\n",
    "        left.tab = zeros(size(j.tab))\n",
    "        left.c = zeros(size(j.tab))\n",
    "        left.Gₚ = zeros(size(unique(D[2]),1))\n",
    "        right = Mondrian_Node(τₚ+E, [true,false,false])\n",
    "        right.parent = j\n",
    "        right.Θ = Θᴿ\n",
    "        right.tab = zeros(size(j.tab))\n",
    "        right.c = zeros(size(j.tab))\n",
    "        right.Gₚ=zeros(size(unique(D[2]),1))\n",
    "        j.left = left\n",
    "        j.right = right\n",
    "        Sample_Mondrian_Block(left, Θᴸ, λ, δ, ζ, tree)\n",
    "        Sample_Mondrian_Block(right, Θᴿ,λ, δ, ζ, tree)\n",
    "    else\n",
    "        j.τ = λ\n",
    "        j.node_type = [false,true,false]\n",
    "        push!(tree.leaves,j)\n",
    "    end\n",
    "end\n",
    "\n",
    "function get_data_indices(Θ::Axis_Aligned_Box, D::Array{Float64,2})\n",
    "    indices = []\n",
    "    include = false\n",
    "    for i in 1:size(D,1)\n",
    "        for j in 1:size(Θ.Intervals,1)\n",
    "            if (D[i,j] < Θ.Intervals[j,1] || D[i,j] > Θ.Intervals[j,2])\n",
    "                include = false\n",
    "                break\n",
    "            end\n",
    "            include = true\n",
    "        end\n",
    "        if (include)    \n",
    "            push!(indices, i)\n",
    "        end\n",
    "    end\n",
    "    return indices\n",
    "end\n",
    "\n",
    "function update_posterior_counts(leaf,y)\n",
    "    leaf.c[y] += 1\n",
    "    l = leaf\n",
    "    while true\n",
    "        if l.tab[y] == 1\n",
    "            return\n",
    "        else\n",
    "            if l.node_type[2] == false\n",
    "                l.c[y] = get(l.left).tab[y]+get(l.right).tab[y]\n",
    "            l.tab[y] = min(l.c[y],1)\n",
    "            end\n",
    "            if l.node_type[3] == true\n",
    "                return\n",
    "            else\n",
    "                l = get(l.parent)\n",
    "            end\n",
    "        end\n",
    "    end         \n",
    "end\n",
    "\n",
    "function update_posterior_counts_batch(Tree,D)\n",
    "    for leaf in Tree.leaves\n",
    "        indices = get_data_indices(get(leaf.Θ),D[1])\n",
    "        for y in D[2][indices,:]\n",
    "            update_posterior_counts(leaf,y)\n",
    "        end\n",
    "    end\n",
    "end\n",
    "\n",
    "function compute_predictive_posterior_distribution(Tree, γ)\n",
    "    J = [get(Tree.root)]\n",
    "    while (size(J,1) != 0)\n",
    "        j = shift!(J)\n",
    "        if (j.node_type[3]==true)\n",
    "            p = ones(length(j.c))./length(j.c)\n",
    "            d = exp(-γ*(j.τ))\n",
    "        else \n",
    "            d = exp(-γ*(j.τ-get(j.parent).τ))\n",
    "            p = get(j.parent).Gₚ\n",
    "        end\n",
    "        for k in 1:length(j.c)\n",
    "            println(sum(j.c))\n",
    "            j.Gₚ[k] = (1/(sum(j.c)+1))*(j.c[k]-d*j.tab[k]+sum(j.tab)*p[k])\n",
    "        end\n",
    "        if j.node_type[2] == false \n",
    "            push!(J, get(j.left))\n",
    "            push!(J, get(j.right))\n",
    "        end\n",
    "    end\n",
    "end\n",
    "\n",
    "function expected_discount(γ, nⱼ, Δⱼ)\n",
    "    Δ = rand(Truncated(Exponential(nⱼ),0,Δⱼ),1000)\n",
    "    return mean(exp.(-γ*Δ))\n",
    "end\n",
    "\n",
    "function predict(T,x)\n",
    "    j = get(T.root)\n",
    "    not_sep = 1\n",
    "    s = zeros(size(j.c,1))\n",
    "    while true\n",
    "        if (j.node_type[3] == true)\n",
    "            Δⱼ = j.τ\n",
    "        else\n",
    "            Δⱼ = j.τ - get(j.parent).τ\n",
    "        end\n",
    "        nⱼ=0\n",
    "        for d in size(x,1)\n",
    "            nⱼ += max(x[d]-get(j.Θ).Intervals[d,2],0) + max(get(j.Θ).Intervals[d,1]-x[d],0)\n",
    "        end\n",
    "        pⱼ = 1-exp(Δⱼ*nⱼ)\n",
    "        if pⱼ > 0\n",
    "            d = expected_discount(γ, nⱼ, Δⱼ)\n",
    "        end\n",
    "    end\n",
    "end"
   ]
  },
  {
   "cell_type": "code",
   "execution_count": 43,
   "metadata": {},
   "outputs": [
    {
     "data": {
      "text/plain": [
       "([0.624896 0.494893 0.534358 0.339575; 0.0983008 0.86944 0.56858 0.239881; … ; 0.995278 0.848457 0.311969 0.211594; 0.868295 0.293071 0.537087 0.705959], [2, 2, 1, 1, 2, 2, 1, 1, 2, 2  …  2, 2, 1, 2, 2, 2, 2, 1, 2, 1])"
      ]
     },
     "execution_count": 43,
     "metadata": {},
     "output_type": "execute_result"
    }
   ],
   "source": [
    "X = rand(100,4)\n",
    "Y = rand([1,2],size(X,1))\n",
    "D = (X,Y)"
   ]
  },
  {
   "cell_type": "code",
   "execution_count": 44,
   "metadata": {},
   "outputs": [],
   "source": [
    "MT = Sample_Mondrian_Tree(0.3,D);\n",
    "update_posterior_counts_batch(MT,D)"
   ]
  },
  {
   "cell_type": "code",
   "execution_count": 45,
   "metadata": {},
   "outputs": [
    {
     "name": "stdout",
     "output_type": "stream",
     "text": [
      "0\n",
      "0\n",
      "0\n",
      "0\n",
      "0\n",
      "0\n",
      "8\n",
      "8\n",
      "0\n",
      "0\n",
      "0\n",
      "0\n",
      "0\n",
      "0\n",
      "0\n",
      "0\n",
      "0\n",
      "0\n",
      "58\n",
      "58\n",
      "0\n",
      "0\n",
      "5\n",
      "5\n",
      "6\n",
      "6\n",
      "5\n",
      "5\n",
      "17\n",
      "17\n",
      "0\n",
      "0\n",
      "1\n",
      "1\n"
     ]
    }
   ],
   "source": [
    "compute_predictive_posterior_distribution(MT,1);"
   ]
  },
  {
   "cell_type": "code",
   "execution_count": null,
   "metadata": {},
   "outputs": [],
   "source": []
  },
  {
   "cell_type": "code",
   "execution_count": 7,
   "metadata": {},
   "outputs": [],
   "source": []
  },
  {
   "cell_type": "code",
   "execution_count": 287,
   "metadata": {},
   "outputs": [
    {
     "ename": "LoadError",
     "evalue": "\u001b[91mtype Mondrian_Node has no field Intervals\u001b[39m",
     "output_type": "error",
     "traceback": [
      "\u001b[91mtype Mondrian_Node has no field Intervals\u001b[39m",
      "",
      "Stacktrace:",
      " [1] \u001b[1minclude_string\u001b[22m\u001b[22m\u001b[1m(\u001b[22m\u001b[22m::String, ::String\u001b[1m)\u001b[22m\u001b[22m at \u001b[1m./loading.jl:522\u001b[22m\u001b[22m"
     ]
    }
   ],
   "source": [
    "a.Intervals"
   ]
  },
  {
   "cell_type": "code",
   "execution_count": 43,
   "metadata": {},
   "outputs": [
    {
     "data": {
      "text/plain": [
       "false"
      ]
     },
     "execution_count": 43,
     "metadata": {},
     "output_type": "execute_result"
    }
   ],
   "source": [
    "D[1][1,2] < a.Intervals[2,1] || D[1][1,2] > a.Intervals[2,2]"
   ]
  },
  {
   "cell_type": "code",
   "execution_count": 40,
   "metadata": {},
   "outputs": [
    {
     "ename": "LoadError",
     "evalue": "\u001b[91mMethodError: no method matching getindex(::Tuple{Array{Float64,2},Array{Int64,1}}, ::Int64, ::Int64)\u001b[39m",
     "output_type": "error",
     "traceback": [
      "\u001b[91mMethodError: no method matching getindex(::Tuple{Array{Float64,2},Array{Int64,1}}, ::Int64, ::Int64)\u001b[39m",
      "",
      "Stacktrace:",
      " [1] \u001b[1minclude_string\u001b[22m\u001b[22m\u001b[1m(\u001b[22m\u001b[22m::String, ::String\u001b[1m)\u001b[22m\u001b[22m at \u001b[1m./loading.jl:522\u001b[22m\u001b[22m"
     ]
    }
   ],
   "source": [
    "D[1,2]"
   ]
  },
  {
   "cell_type": "code",
   "execution_count": 22,
   "metadata": {},
   "outputs": [
    {
     "data": {
      "text/plain": [
       "5-element Array{Int64,1}:\n",
       " 1\n",
       " 2\n",
       " 2\n",
       " 2\n",
       " 1"
      ]
     },
     "execution_count": 22,
     "metadata": {},
     "output_type": "execute_result"
    }
   ],
   "source": [
    "Y = [1,2,2,2,1]"
   ]
  },
  {
   "cell_type": "code",
   "execution_count": 24,
   "metadata": {},
   "outputs": [
    {
     "data": {
      "text/plain": [
       "2"
      ]
     },
     "execution_count": 24,
     "metadata": {},
     "output_type": "execute_result"
    }
   ],
   "source": [
    "size(Y[Y.==1],1)"
   ]
  },
  {
   "cell_type": "code",
   "execution_count": 16,
   "metadata": {},
   "outputs": [
    {
     "data": {
      "text/plain": [
       "2-element Array{Float64,1}:\n",
       " 1.0\n",
       " 1.0"
      ]
     },
     "execution_count": 16,
     "metadata": {},
     "output_type": "execute_result"
    }
   ],
   "source": [
    "ones(2)"
   ]
  },
  {
   "cell_type": "code",
   "execution_count": 17,
   "metadata": {},
   "outputs": [
    {
     "data": {
      "text/plain": [
       "7.38905609893065"
      ]
     },
     "execution_count": 17,
     "metadata": {},
     "output_type": "execute_result"
    }
   ],
   "source": [
    "exp(2)"
   ]
  },
  {
   "cell_type": "code",
   "execution_count": 19,
   "metadata": {},
   "outputs": [
    {
     "data": {
      "text/plain": [
       "6"
      ]
     },
     "execution_count": 19,
     "metadata": {},
     "output_type": "execute_result"
    }
   ],
   "source": [
    "sum([1,2,3])"
   ]
  },
  {
   "cell_type": "code",
   "execution_count": null,
   "metadata": {},
   "outputs": [],
   "source": []
  }
 ],
 "metadata": {
  "kernelspec": {
   "display_name": "julia-pro 0.6.2",
   "language": "julia",
   "name": "julia-pro-0.6"
  },
  "language_info": {
   "file_extension": ".jl",
   "mimetype": "application/julia",
   "name": "julia",
   "version": "0.6.2"
  }
 },
 "nbformat": 4,
 "nbformat_minor": 2
}
