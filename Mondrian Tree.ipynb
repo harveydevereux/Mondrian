{
 "cells": [
  {
   "cell_type": "code",
   "execution_count": 1,
   "metadata": {},
   "outputs": [],
   "source": [
    "include(\"Axis_Aligned_Box.jl\");"
   ]
  },
  {
   "cell_type": "code",
   "execution_count": 2,
   "metadata": {},
   "outputs": [
    {
     "ename": "LoadError",
     "evalue": "\u001b[91msyntax: missing comma or ) in argument list\u001b[39m",
     "output_type": "error",
     "traceback": [
      "\u001b[91msyntax: missing comma or ) in argument list\u001b[39m",
      "",
      "Stacktrace:",
      " [1] \u001b[1minclude_string\u001b[22m\u001b[22m\u001b[1m(\u001b[22m\u001b[22m::String, ::String\u001b[1m)\u001b[22m\u001b[22m at \u001b[1m./loading.jl:522\u001b[22m\u001b[22m"
     ]
    }
   ],
   "source": [
    "type Mondrian_Node\n",
    "    parent::Nullable{Mondrian_Node}\n",
    "    left::Nullable{Mondrian_Node}\n",
    "    right::Nullable{Mondrian_Node}\n",
    "    τ::Float64\n",
    "    node_type::Array{Bool,1}        # node,leaf,root\n",
    "    δ::Nullable{Int}                # split dimension\n",
    "    ζ::Nullable{Float64}            # split position\n",
    "end\n",
    "\n",
    "function Mondrian_Node()\n",
    "    N = Mondrian_Node(Nullable{Mondrian_Node}(),\n",
    "                      Nullable{Mondrian_Node}(),\n",
    "                      Nullable{Mondrian_Node}(),\n",
    "                      0,[true,false,false],\n",
    "                      Nullable{Int}(),\n",
    "                      Nullable{Float64}())\n",
    "    return N\n",
    "end\n",
    "\n",
    "function Mondrian_Node(τ::Float64)\n",
    "    N = Mondrian_Node(Nullable{Mondrian_Node}(),\n",
    "                      Nullable{Mondrian_Node}(),\n",
    "                      Nullable{Mondrian_Node}(),\n",
    "                      τ,[true,false,false]\n",
    "                      Nullable{Int}(),\n",
    "                      Nullable{Float64}())\n",
    "    return N\n",
    "end\n",
    "\n",
    "function Mondrian_Node(τ::Float64, node_type::Array{Bool,1})\n",
    "    N = Mondrian_Node(Nullable{Mondrian_Node}(),\n",
    "                      Nullable{Mondrian_Node}(),\n",
    "                      Nullable{Mondrian_Node}(),\n",
    "                      τ,\n",
    "                      node_type\n",
    "                      Nullable{Int}(),\n",
    "                      Nullable{Float64}())\n",
    "    return N\n",
    "end"
   ]
  },
  {
   "cell_type": "code",
   "execution_count": 3,
   "metadata": {},
   "outputs": [
    {
     "data": {
      "text/plain": [
       "Mondrian_Node(Nullable{Mondrian_Node}(), Nullable{Mondrian_Node}(), Nullable{Mondrian_Node}(), 0.0, Bool[true, false, false], Nullable{Int64}(), Nullable{Float64}())"
      ]
     },
     "execution_count": 3,
     "metadata": {},
     "output_type": "execute_result"
    }
   ],
   "source": [
    "c = Mondrian_Node()"
   ]
  },
  {
   "cell_type": "code",
   "execution_count": 51,
   "metadata": {},
   "outputs": [
    {
     "data": {
      "text/plain": [
       "Sample_Mondrian_Block (generic function with 2 methods)"
      ]
     },
     "execution_count": 51,
     "metadata": {},
     "output_type": "execute_result"
    }
   ],
   "source": [
    "using Distributions\n",
    "\n",
    "function Sample_Mondrian_Tree(λ,D)\n",
    "    δ = []\n",
    "    ζ = []\n",
    "    n = 1:size(D,1)\n",
    "    e = Mondrian_Node(0.0,[false,false,true])\n",
    "    Θ = Axis_Aligned_Box(get_intervals(D[1]))\n",
    "    Sample_Mondrian_Block(e, Θ, λ, δ, ζ)\n",
    "    return e\n",
    "end\n",
    "\n",
    "function Sample_Mondrian_Block(j, Θ, λ, δ, ζ)\n",
    "    E = rand(Exponential(1/Linear_dimension(Θ)))\n",
    "    if j.node_type[3]==true\n",
    "        τₚ = 0\n",
    "    else\n",
    "        τₚ = (get(j.parent)).τ\n",
    "    end\n",
    "    if τₚ + E < λ\n",
    "        d,x = sample_split_dimension(Θ)\n",
    "        #push!(δ,d)\n",
    "        #push!(ζ,x)\n",
    "        Θᴸ = copy(Θ)\n",
    "        Θᴿ = copy(Θ)\n",
    "        Θᴸ.Intervals[d,2]=x\n",
    "        Θᴿ.Intervals[d,1]=x\n",
    "        left = Mondrian_Node(τₚ+E, [true,false,false])\n",
    "        left.parent = j\n",
    "        right = Mondrian_Node(τₚ+E, [true,false,false])\n",
    "        right.parent = j\n",
    "        j.left = left\n",
    "        j.right = right\n",
    "        Sample_Mondrian_Block(left, Θᴸ, λ, δ, ζ)\n",
    "        Sample_Mondrian_Block(right, Θᴿ,λ, δ, ζ)\n",
    "    else\n",
    "        j.τ = λ\n",
    "        j.node_type = [false,true,false]\n",
    "    end\n",
    "end"
   ]
  },
  {
   "cell_type": "code",
   "execution_count": 52,
   "metadata": {},
   "outputs": [
    {
     "data": {
      "text/plain": [
       "([0.372728 0.516704 … 0.998043 0.233049; 0.185573 0.269935 … 0.465681 0.614883; … ; 0.96987 0.625297 … 0.732517 0.46793; 0.105781 0.791417 … 0.721722 0.581104], [0.311622, 0.49522, 0.030827, 0.793182, 0.193743, 0.884442, 0.359504, 0.738085, 0.915334, 0.125943])"
      ]
     },
     "execution_count": 52,
     "metadata": {},
     "output_type": "execute_result"
    }
   ],
   "source": [
    "X = rand(10,10)\n",
    "Y = rand(10)\n",
    "D = (X,Y)"
   ]
  },
  {
   "cell_type": "code",
   "execution_count": 53,
   "metadata": {},
   "outputs": [],
   "source": [
    "M = Sample_Mondrian_Tree(1,D);"
   ]
  }
 ],
 "metadata": {
  "kernelspec": {
   "display_name": "julia-pro 0.6.2",
   "language": "julia",
   "name": "julia-pro-0.6"
  },
  "language_info": {
   "file_extension": ".jl",
   "mimetype": "application/julia",
   "name": "julia",
   "version": "0.6.2"
  }
 },
 "nbformat": 4,
 "nbformat_minor": 2
}
