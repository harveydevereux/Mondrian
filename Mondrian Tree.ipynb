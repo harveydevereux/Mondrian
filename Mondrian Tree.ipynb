{
 "cells": [
  {
   "cell_type": "code",
   "execution_count": 1,
   "metadata": {},
   "outputs": [
    {
     "data": {
      "text/plain": [
       "Mondrian_Tree"
      ]
     },
     "execution_count": 1,
     "metadata": {},
     "output_type": "execute_result"
    }
   ],
   "source": [
    "include(\"Axis_Aligned_Box.jl\");\n",
    "type Mondrian_Node\n",
    "    parent::Nullable{Mondrian_Node}\n",
    "    left::Nullable{Mondrian_Node}\n",
    "    right::Nullable{Mondrian_Node}\n",
    "    τ::Float64\n",
    "    node_type::Array{Bool,1}        # node,leaf,root\n",
    "    δ::Nullable{Int}                # split dimension\n",
    "    ζ::Nullable{Float64}            # split position\n",
    "    Θ::Nullable{Axis_Aligned_Box}   # data boxes B\n",
    "    tab::Array{Int}\n",
    "    c::Array{Int}\n",
    "    Gₚ::Array{Float64}\n",
    "    indices::Array{Int}\n",
    "end\n",
    "\n",
    "function Mondrian_Node(τ, node_type, tab, c, Gₚ)\n",
    "    N = Mondrian_Node(Nullable{Mondrian_Node}(),\n",
    "                      Nullable{Mondrian_Node}(),\n",
    "                      Nullable{Mondrian_Node}(),\n",
    "                      τ,node_type,\n",
    "                      Nullable{Int}(),\n",
    "                      Nullable{Float64}(),\n",
    "                      Nullable{Axis_Aligned_Box}(),\n",
    "                      tab,\n",
    "                      c,\n",
    "                      Gₚ,\n",
    "                      Array{Int}())\n",
    "    return N\n",
    "end\n",
    "\n",
    "function Mondrian_Node()\n",
    "    N = Mondrian_Node(Nullable{Mondrian_Node}(),\n",
    "                      Nullable{Mondrian_Node}(),\n",
    "                      Nullable{Mondrian_Node}(),\n",
    "                      0,[true,false,false],\n",
    "                      Nullable{Int}(),\n",
    "                      Nullable{Float64}(),\n",
    "                      Nullable{Axis_Aligned_Box}(),\n",
    "                      Array{Int}(),\n",
    "                      Array{Int}(),\n",
    "                      Array{Float64}(),\n",
    "                      Array{Int}())\n",
    "    return N\n",
    "end\n",
    "\n",
    "function Mondrian_Node(τ::Float64)\n",
    "    N = Mondrian_Node(Nullable{Mondrian_Node}(),\n",
    "                      Nullable{Mondrian_Node}(),\n",
    "                      Nullable{Mondrian_Node}(),\n",
    "                      τ,[true,false,false],\n",
    "                      Nullable{Int}(),\n",
    "                      Nullable{Float64}(),\n",
    "                      Nullable{Axis_Aligned_Box}(),\n",
    "                      Array{Int}(),\n",
    "                      Array{Int}(),\n",
    "                      Array{Float64}(),\n",
    "                      Array{Int}(1))\n",
    "    return N\n",
    "end\n",
    "\n",
    "function Mondrian_Node(τ::Float64, node_type::Array{Bool,1})\n",
    "    N = Mondrian_Node(Nullable{Mondrian_Node}(),\n",
    "                      Nullable{Mondrian_Node}(),\n",
    "                      Nullable{Mondrian_Node}(),\n",
    "                      τ,\n",
    "                      node_type,\n",
    "                      Nullable{Int}(),\n",
    "                      Nullable{Float64}(),\n",
    "                      Nullable{Axis_Aligned_Box}(),\n",
    "                      Array{Int}(),\n",
    "                      Array{Int}(),\n",
    "                      Array{Float64}(),\n",
    "                      Array{Int}())\n",
    "    return N\n",
    "end\n",
    "\n",
    "type Mondrian_Tree\n",
    "    root::Nullable{Mondrian_Node}\n",
    "    leaves::Array{Mondrian_Node,1}\n",
    "end\n",
    "\n",
    "function Mondrian_Tree()\n",
    "    T = Mondrian_Tree(Nullable{Mondrian_Node}(),Array{Mondrian_Node,1}())\n",
    "end\n",
    "\n",
    "function Mondrian_Tree(N::Mondrian_Node)\n",
    "    T = Mondrian_Tree(N,Array{Mondrian_Node,1}())\n",
    "end"
   ]
  },
  {
   "cell_type": "code",
   "execution_count": 128,
   "metadata": {},
   "outputs": [
    {
     "data": {
      "text/plain": [
       "depth (generic function with 1 method)"
      ]
     },
     "execution_count": 128,
     "metadata": {},
     "output_type": "execute_result"
    }
   ],
   "source": [
    "using Distributions\n",
    "\n",
    "function Sample_Mondrian_Tree(λ,D)\n",
    "    δ = []\n",
    "    ζ = []\n",
    "    n = 1:size(D,1)\n",
    "    e = Mondrian_Node(0.0,[false,false,true])\n",
    "    T = Mondrian_Tree(e)\n",
    "    Θ = Axis_Aligned_Box(get_intervals(D[1]))\n",
    "    e.Θ = Θ\n",
    "    e.tab = zeros(size(unique(D[2]),1))\n",
    "    e.c = zeros(size(unique(D[2]),1))\n",
    "    e.Gₚ = zeros(size(unique(D[2]),1))\n",
    "    k=[0]\n",
    "    Sample_Mondrian_Block(e, Θ, λ, δ, ζ, T, D[1],k)\n",
    "    println(k)\n",
    "    return T\n",
    "end\n",
    "\n",
    "function Sample_Mondrian_Block(j, Θ, λ, δ, ζ, tree, Data,k)\n",
    "    k[1] += 1\n",
    "    E = rand(Exponential(1/Linear_dimension(Θ)))\n",
    "#     j.left = Mondrian_Node(0,[false,false,false],[0,0],[0,0],[0,0])\n",
    "#     j.right = Mondrian_Node(0,[false,false,false],[0,0],[0,0],[0,0])\n",
    "#     get(j.left).parent = j\n",
    "#     get(j.right).parent = j\n",
    "#     get(j.left).Θ=copy(Θ)\n",
    "#     get(j.right).Θ=copy(Θ)\n",
    "    \n",
    "    if j.node_type[3]==true\n",
    "        τₚ = 0\n",
    "    else\n",
    "        τₚ = (get(j.parent)).τ\n",
    "    end\n",
    "    if τₚ + E < λ\n",
    "        d,x = sample_split_dimension(Θ)\n",
    "        j.δ = d\n",
    "        j.ζ = x\n",
    "        j.τ = τₚ+E\n",
    "        Θᴸ = Θ\n",
    "        # look at this copy\n",
    "        Θᴿ = copy(Θ)\n",
    "        Θᴸ.Intervals[d,2]=x\n",
    "        Θᴿ.Intervals[d,1]=x+1e-6\n",
    "        Dᴿ = get_data_indices(Θᴿ,Data)\n",
    "        Dᴸ = get_data_indices(Θᴸ,Data)\n",
    "        if (size(Dᴿ,1)>0 && size(Dᴸ,1)>0)\n",
    "            right = Mondrian_Node(0.0, [true,false,false])\n",
    "            right.parent = j\n",
    "            right.Θ = Axis_Aligned_Box(get_intervals(Data[Dᴿ,:]))\n",
    "            right.tab = zeros(size(j.tab))\n",
    "            right.c = zeros(size(j.tab))\n",
    "            right.Gₚ=zeros(size(j.c,1))\n",
    "            j.right = right\n",
    "            left = Mondrian_Node(0.0, [true,false,false])\n",
    "            left.parent = j\n",
    "            left.Θ = Axis_Aligned_Box(get_intervals(Data[Dᴸ,:]))\n",
    "            left.tab = zeros(size(j.tab))\n",
    "            left.c = zeros(size(j.tab))\n",
    "            left.Gₚ = zeros(size(j.c,1))\n",
    "            j.left = left\n",
    "            Sample_Mondrian_Block(left, Θᴸ, λ, δ, ζ, tree, Data[Dᴸ,:],k)\n",
    "            Sample_Mondrian_Block(right,Θᴿ,λ, δ, ζ, tree, Data[Dᴿ,:],k)\n",
    "        \n",
    "        else\n",
    "            j.τ = λ\n",
    "            j.node_type = [false,true,false]\n",
    "            push!(tree.leaves,j)\n",
    "            return\n",
    "        end \n",
    "    else\n",
    "        j.τ = λ\n",
    "        j.node_type = [false,true,false]\n",
    "        push!(tree.leaves,j)\n",
    "        return\n",
    "    end\n",
    "end\n",
    "\n",
    "function get_data_indices(Θ::Axis_Aligned_Box, D::Array{Float64,2})\n",
    "    indices = []\n",
    "    include = false\n",
    "    for i in 1:size(D,1)\n",
    "        for j in 1:size(Θ.Intervals,1)\n",
    "            if (D[i,j] < Θ.Intervals[j,1] || D[i,j] > Θ.Intervals[j,2])\n",
    "                include = false\n",
    "                break\n",
    "            end\n",
    "            include = true\n",
    "        end\n",
    "        if (include)    \n",
    "            push!(indices, i)\n",
    "        end\n",
    "    end\n",
    "    return indices\n",
    "end\n",
    "\n",
    "function set_label_distribution!(j,Θ, D)\n",
    "    indices = get_data_indices(Θ, D)\n",
    "    if length(indices)>0\n",
    "        for k in 1:length(unique(D[2]))\n",
    "            j.Gₚ = length(D[2][D[2].==k])\n",
    "        end\n",
    "        j.Gₚ = j.Gₚ/(sum(j.Gₚ))\n",
    "    end\n",
    "end\n",
    "\n",
    "function initialize_posterior_leaf_counts!(Tree, D)\n",
    "    X = D[1]\n",
    "    Y = D[2]\n",
    "    for leaf in Tree.leaves\n",
    "        indices = get_data_indices(get(leaf.Θ),X)\n",
    "        if length(indices)>0\n",
    "            y = Y[indices]\n",
    "            for k in 1:length(leaf.c)\n",
    "                leaf.c[k] = length(y[y.==k])\n",
    "                leaf.tab[k] = min(leaf.c[k],1)\n",
    "            end\n",
    "        end\n",
    "    end\n",
    "end\n",
    "\n",
    "function initialize_posterior_counts!(Tree,D)\n",
    "    initialize_posterior_leaf_counts!(Tree,D)\n",
    "    for leaf in Tree.leaves\n",
    "        j = leaf\n",
    "        while true\n",
    "            if j.node_type[2]==false\n",
    "                for k in 1:length(j.c)\n",
    "                    j.c[k] = get(j.left).tab[k]+get(j.right).tab[k]\n",
    "                end\n",
    "            end\n",
    "            for k in 1:length(j.c)\n",
    "                j.tab[k] = min(j.c[k],1)\n",
    "            end\n",
    "            if j.node_type[3]==true\n",
    "                break\n",
    "            else\n",
    "                j = get(j.parent)\n",
    "            end\n",
    "        end\n",
    "    end\n",
    "end\n",
    "\n",
    "function update_posterior_counts!(leaf,y)\n",
    "    leaf.c[y] += 1\n",
    "    l = leaf\n",
    "    while true\n",
    "        if l.tab[y] == 1\n",
    "            return\n",
    "        else\n",
    "            if l.node_type[2] == false\n",
    "                l.c[y] = get(l.left).tab[y]+get(l.right).tab[y]\n",
    "            end\n",
    "            l.tab[y] = min(l.c[y],1)\n",
    "            if l.node_type[3] == true\n",
    "                return\n",
    "            else\n",
    "                l = get(l.parent)\n",
    "            end\n",
    "        end\n",
    "    end         \n",
    "end\n",
    "\n",
    "function update_posterior_counts_batch!(Tree,D)\n",
    "    for leaf in Tree.leaves\n",
    "        indices = get_data_indices(get(leaf.Θ),D[1])\n",
    "        for y in D[2][indices,:]\n",
    "            update_posterior_counts(leaf,y)\n",
    "        end\n",
    "    end\n",
    "end\n",
    "\n",
    "function compute_predictive_posterior_distribution!(Tree, γ=1)\n",
    "    J = [get(Tree.root)]\n",
    "    while (size(J,1) != 0)\n",
    "        j = shift!(J)\n",
    "        if (j.node_type[3]==true)\n",
    "            p = ones(length(j.c))./length(j.c)\n",
    "            d = exp(-γ*(j.τ))\n",
    "        else \n",
    "            d = exp(-γ*(j.τ-get(j.parent).τ))\n",
    "            p = get(j.parent).Gₚ\n",
    "        end\n",
    "        for k in 1:length(j.c)\n",
    "            j.Gₚ[k] = (1/(sum(j.c)+1))*(j.c[k]-d*j.tab[k]+sum(j.tab)*p[k])\n",
    "        end\n",
    "        if sum(j.node_type)==0\n",
    "            break\n",
    "        end\n",
    "        if j.node_type[2] == false \n",
    "            push!(J, get(j.left))\n",
    "            push!(J, get(j.right))\n",
    "        end\n",
    "    end\n",
    "end\n",
    "\n",
    "function expected_discount(nⱼ, Δⱼ,γ=1)\n",
    "    Δ = rand(Truncated(Exponential(1/nⱼ),0,Δⱼ),10000)\n",
    "    return mean(exp.(-γ*Δ))\n",
    "end\n",
    "\n",
    "function predict!(T,x, γ=1)\n",
    "    j = get(T.root)\n",
    "    not_sep = 1\n",
    "    s = zeros(size(j.c,1))\n",
    "    while true\n",
    "        if (sum(j.node_type)==0)\n",
    "            break\n",
    "        end\n",
    "        if (j.node_type[3] == true)\n",
    "            Δⱼ = j.τ\n",
    "        else\n",
    "            Δⱼ = j.τ - get(j.parent).τ\n",
    "        end\n",
    "        nⱼ=0\n",
    "        for d in size(x,1)\n",
    "            nⱼ += max(x[d]-get(j.Θ).Intervals[d,2],0) + max(get(j.Θ).Intervals[d,1]-x[d],0)\n",
    "        end\n",
    "        pⱼ = 1-exp(Δⱼ*nⱼ)\n",
    "        if pⱼ > 0\n",
    "            println(\"Yes\")\n",
    "            # x branches\n",
    "            jₓ = Mondrian_Node()\n",
    "            if (j == get(j.parent).left)\n",
    "                get(j.parent).left = jₓ\n",
    "            else\n",
    "                get(j.parent).right = jₓ\n",
    "            end\n",
    "            jₓ.parent = get(j.parent)\n",
    "            j.parent = jₓ\n",
    "            jₓ.left = j\n",
    "            jₓ.right = Mondrian_Node()\n",
    "            d = expected_discount(nⱼ, Δⱼ, γ)\n",
    "            for k in 1:length(j.c)\n",
    "                jₓ.c[k] = min(j.c[k],1)\n",
    "            end\n",
    "            jₓ.tab = jₓ.c\n",
    "            for k in 1:length(jₓ.c)\n",
    "                jₓ.Gₚ[k] = 1/(sum(jₓ.c)+1)*(jₓ.c[k] - d*jₓ.tab[k]+d*sum(jₓ.tab)*get(jₓ.parent).Gₚ[k])\n",
    "            end\n",
    "            for k in 1:length(s)\n",
    "                s[k] += not_sep*(1-pⱼ)*jₓ.Gₚ[k]\n",
    "            end\n",
    "        end\n",
    "        if j.node_type[2] == true\n",
    "            for k in 1:length(s)\n",
    "                s[k] += not_sep*(1-pⱼ)*j.Gₚ[k]\n",
    "            end\n",
    "            return s\n",
    "        else\n",
    "            not_sep = not_sep*(1-pⱼ)\n",
    "            if x[get(j.δ)] <= get(j.ζ)\n",
    "                j = get(j.left)\n",
    "            else\n",
    "                j = get(j.right)\n",
    "            end\n",
    "        end\n",
    "    end\n",
    "end\n",
    "\n",
    "function depth(Tree::Mondrian_Tree)\n",
    "    j = Tree.leaves[1]\n",
    "    d = 0\n",
    "    while !(j.node_type[3])\n",
    "        j = get(j.parent)\n",
    "        d+=1\n",
    "    end\n",
    "    return d\n",
    "end"
   ]
  },
  {
   "cell_type": "code",
   "execution_count": 129,
   "metadata": {},
   "outputs": [
    {
     "data": {
      "text/plain": [
       "([-0.052104 -2.03155; 0.692859 0.251897; … ; -1.36148 -1.06672; -0.691905 0.636722], [1, 1, 1, 1, 1, 1, 2, 2, 1, 2  …  2, 1, 1, 1, 2, 1, 1, 2, 1, 1])"
      ]
     },
     "execution_count": 129,
     "metadata": {},
     "output_type": "execute_result"
    }
   ],
   "source": [
    "using MLBase\n",
    "function Fakedata(n,dim) \n",
    "    x = randn(n,dim)\n",
    "    y = (sum(exp.(x)/(1+exp.(x)),2)).>0.5\n",
    "    return 1.0*x,1*y[:,1]\n",
    "end\n",
    "\n",
    "d=2\n",
    "X, Y = Fakedata(1000,d);\n",
    "D = (X,Y.+1)\n",
    "\n",
    "x,y = Fakedata(1000,d)\n",
    "D_test = (x,y.+1)"
   ]
  },
  {
   "cell_type": "code",
   "execution_count": 130,
   "metadata": {},
   "outputs": [],
   "source": [
    "t = y.==1;"
   ]
  },
  {
   "cell_type": "code",
   "execution_count": 131,
   "metadata": {},
   "outputs": [
    {
     "data": {
      "image/png": "[encoded data removed]"
     },
     "execution_count": 131,
     "metadata": {},
     "output_type": "execute_result"
    }
   ],
   "source": [
    "using Plots\n",
    "scatter(x[t.==1,1],x[t.==1,2])\n",
    "scatter!(x[t.==0,1],x[t.==0,2])"
   ]
  },
  {
   "cell_type": "code",
   "execution_count": 150,
   "metadata": {},
   "outputs": [
    {
     "name": "stdout",
     "output_type": "stream",
     "text": [
      "[465]\n",
      "  0.051436 seconds (401.00 k allocations: 9.601 MiB)\n",
      "  0.071212 seconds (1.31 M allocations: 29.189 MiB, 16.39% gc time)\n",
      "  0.000700 seconds (6.53 k allocations: 106.438 KiB)\n",
      "Train accuracy\n",
      "0.943\n",
      "[1, 2]\n",
      "Test accuracy\n",
      "0.763\n",
      "[2, 1]\n"
     ]
    }
   ],
   "source": [
    "#Profile.init(delay=0.0001)\n",
    "@time MT = Sample_Mondrian_Tree(1e9,D);\n",
    "@time initialize_posterior_counts!(MT,D);\n",
    "@time compute_predictive_posterior_distribution!(MT,10*size(D[1],2));\n",
    "\n",
    "pred = []\n",
    "for i in 1:size(D[1],1) \n",
    "    p = predict!(MT,D[1][i,:],10*size(D[1],2))\n",
    "    if p[1] > p[2]\n",
    "        push!(pred,1)\n",
    "    else\n",
    "        push!(pred,2)\n",
    "    end\n",
    "end\n",
    "println(\"Train accuracy\")\n",
    "println(correctrate(D[2],convert(Array{Int,1},pred)))\n",
    "println(unique(pred))\n",
    "\n",
    "x,y = Fakedata(1000,d)\n",
    "D_test = (x,y.+1)\n",
    "pred = []\n",
    "for i in 1:size(D_test[1],1) \n",
    "    p = predict!(MT,D_test[1][i,:],10*size(D_test[1],2))\n",
    "    if p[1] > p[2]\n",
    "        push!(pred,1)\n",
    "    else\n",
    "        push!(pred,2)\n",
    "    end\n",
    "end\n",
    "println(\"Test accuracy\")\n",
    "println(correctrate(D_test[2],convert(Array{Int,1},pred)))\n",
    "println(unique(pred))"
   ]
  },
  {
   "cell_type": "code",
   "execution_count": 151,
   "metadata": {},
   "outputs": [
    {
     "data": {
      "text/plain": [
       "5"
      ]
     },
     "execution_count": 151,
     "metadata": {},
     "output_type": "execute_result"
    }
   ],
   "source": [
    "depth(MT)"
   ]
  },
  {
   "cell_type": "code",
   "execution_count": 152,
   "metadata": {},
   "outputs": [
    {
     "data": {
      "text/plain": [
       "233"
      ]
     },
     "execution_count": 152,
     "metadata": {},
     "output_type": "execute_result"
    }
   ],
   "source": [
    "i=0\n",
    "for l in MT.leaves\n",
    "    i+=1\n",
    "end\n",
    "i"
   ]
  },
  {
   "cell_type": "code",
   "execution_count": 48,
   "metadata": {},
   "outputs": [
    {
     "data": {
      "text/plain": [
       "get_data_indices! (generic function with 1 method)"
      ]
     },
     "execution_count": 48,
     "metadata": {},
     "output_type": "execute_result"
    }
   ],
   "source": [
    "function get_data_indices!(Θ::Axis_Aligned_Box, D::Array{Float64,2})\n",
    "    indices = []\n",
    "    include = false\n",
    "    for i in 1:size(D,1)\n",
    "        for j in 1:size(Θ.Intervals,1)\n",
    "            if (D[i,j] < Θ.Intervals[j,1] || D[i,j] > Θ.Intervals[j,2])\n",
    "                include = false\n",
    "                break\n",
    "            end\n",
    "            include = true\n",
    "        end\n",
    "        if (include)    \n",
    "            push!(indices, i)\n",
    "        end\n",
    "    end\n",
    "    return indices\n",
    "end"
   ]
  },
  {
   "cell_type": "code",
   "execution_count": 65,
   "metadata": {},
   "outputs": [
    {
     "data": {
      "text/plain": [
       "cart (generic function with 1 method)"
      ]
     },
     "execution_count": 65,
     "metadata": {},
     "output_type": "execute_result"
    }
   ],
   "source": [
    "function cart(x,y)\n",
    "    [repeat(x, inner=[size(y,1)]) repeat(y, outer=[size(x,1)])]\n",
    "end"
   ]
  },
  {
   "cell_type": "code",
   "execution_count": 286,
   "metadata": {},
   "outputs": [
    {
     "data": {
      "image/png": "[encoded data removed]"
     },
     "execution_count": 286,
     "metadata": {},
     "output_type": "execute_result"
    }
   ],
   "source": [
    "a = [1,-1]\n",
    "b = [1,-1]\n",
    "x\n",
    "x=vcat(cart(a,b),cart(reverse(a),b))\n",
    "plot(x[:,1],x[:,2])"
   ]
  },
  {
   "cell_type": "code",
   "execution_count": 284,
   "metadata": {},
   "outputs": [
    {
     "data": {
      "text/plain": [
       "8-element Array{Int64,1}:\n",
       "  1\n",
       "  1\n",
       " -1\n",
       " -1\n",
       " -1\n",
       " -1\n",
       "  1\n",
       "  1"
      ]
     },
     "execution_count": 284,
     "metadata": {},
     "output_type": "execute_result"
    }
   ],
   "source": [
    "x[:,1]"
   ]
  },
  {
   "cell_type": "code",
   "execution_count": 154,
   "metadata": {},
   "outputs": [
    {
     "name": "stdout",
     "output_type": "stream",
     "text": [
      "[309]\n",
      "[253]\n",
      "[531]\n",
      "[511]\n",
      "[61]\n",
      "[251]\n",
      "[501]\n",
      "[149]\n",
      "[459]\n",
      "[495]\n",
      "[3]\n",
      "[477]\n",
      "[347]\n",
      "[285]\n",
      "[527]\n",
      "[493]\n",
      "[377]\n",
      "[565]\n",
      "[527]\n",
      "[433]\n",
      "[323]\n",
      "[547]\n",
      "[377]\n",
      "[367]\n",
      "[423]\n",
      "[91]\n",
      "[477]\n",
      "[513]\n",
      "[469]\n",
      "[245]\n",
      "[519]\n",
      "[351]\n",
      "[421]\n",
      "[505]\n",
      "[531]\n",
      "[357]\n",
      "[475]\n",
      "[359]\n",
      "[371]\n",
      "[309]\n",
      "[227]\n",
      "[419]\n",
      "[479]\n",
      "[487]\n",
      "[289]\n",
      "[455]\n",
      "[443]\n",
      "[369]\n",
      "[393]\n",
      "[189]\n",
      "[377]\n",
      "[527]\n",
      "[253]\n",
      "[199]\n",
      "[435]\n",
      "[483]\n",
      "[125]\n",
      "[609]\n",
      "[515]\n",
      "[541]\n",
      "[293]\n",
      "[327]\n",
      "[185]\n",
      "[511]\n",
      "[323]\n",
      "[485]\n",
      "[587]\n",
      "[495]\n",
      "[225]\n",
      "[381]\n",
      "[247]\n",
      "[579]\n",
      "[563]\n",
      "[345]\n",
      "[347]\n",
      "[107]\n",
      "[501]\n",
      "[403]\n",
      "[337]\n",
      "[257]\n",
      "[321]\n",
      "[507]\n",
      "[491]\n",
      "[325]\n",
      "[439]\n",
      "[521]\n",
      "[395]\n",
      "[427]\n",
      "[467]\n",
      "[361]\n",
      "[405]\n",
      "[251]\n",
      "[457]\n",
      "[393]\n",
      "[405]\n",
      "[471]\n",
      "[485]\n",
      "[529]\n",
      "[537]\n",
      "[519]\n",
      " 11.476611 seconds (176.20 M allocations: 3.719 GiB, 14.18% gc time)\n",
      "Test accuracy\n",
      "0.958\n"
     ]
    }
   ],
   "source": [
    "function Mondrian_Forest_predict!(D_train,D_pred,λ,nₜ=200)\n",
    "    trees = Array{Mondrian_Tree}(nₜ)\n",
    "    pred = Array{Int, 2}(nₜ,size(D_pred,1))\n",
    "    for i in 1:nₜ\n",
    "        trees[i] = Sample_Mondrian_Tree(λ,D_train)\n",
    "        initialize_posterior_counts!(trees[i],D_train);\n",
    "        compute_predictive_posterior_distribution!(trees[i],10*size(D_train[1],2));\n",
    "        for j in 1:size(D_pred,1) \n",
    "            p = predict!(trees[i],D_pred[j,:],10*size(D_pred,2))\n",
    "            if p[1] > p[2]\n",
    "                pred[i,j] = 1\n",
    "            else\n",
    "                pred[i,j] = 2\n",
    "            end\n",
    "        end\n",
    "    end\n",
    "    p = Array{Int,1}(size(D_pred,1))\n",
    "    for i in 1:size(D_pred,1)\n",
    "        p[i] = mode(pred[:,i])\n",
    "    end\n",
    "    return p, trees\n",
    "end\n",
    "# println(\"Train accuracy\")\n",
    "# p = Mondrian_Forest_predict!(D,D[1],0.3)\n",
    "# println(correctrate(p,convert(Array{Int,1},D[2])))\n",
    "@time p,T = Mondrian_Forest_predict!(D,D_test[1],10,100)\n",
    "println(\"Test accuracy\")\n",
    "println(correctrate(p,convert(Array{Int,1},D_test[2])))"
   ]
  },
  {
   "cell_type": "code",
   "execution_count": 9,
   "metadata": {},
   "outputs": [],
   "source": [
    "t_test = p.==2;"
   ]
  },
  {
   "cell_type": "code",
   "execution_count": 10,
   "metadata": {},
   "outputs": [
    {
     "data": {
      "image/png": "[encoded data removed]"
     },
     "execution_count": 10,
     "metadata": {},
     "output_type": "execute_result"
    }
   ],
   "source": [
    "scatter(x[t_test.==1,1],x[t_test.==1,2])\n",
    "scatter!(x[t_test.==0,1],x[t_test.==0,2])"
   ]
  },
  {
   "cell_type": "code",
   "execution_count": 130,
   "metadata": {},
   "outputs": [
    {
     "data": {
      "image/png": "[encoded data removed]"
     },
     "execution_count": 130,
     "metadata": {},
     "output_type": "execute_result"
    }
   ],
   "source": [
    "scatter(x[t.==1,1],x[t.==1,2])\n",
    "scatter!(x[t.==0,1],x[t.==0,2])"
   ]
  },
  {
   "cell_type": "code",
   "execution_count": 39,
   "metadata": {},
   "outputs": [],
   "source": [
    "x = [1,10,25,50,100]\n",
    "t = zeros(length(x))\n",
    "for i in 1:length(x)\n",
    "    t[i] = (@allocated Mondrian_Forest_predict!(D,D_test[1],0.15,x[i]))\n",
    "end"
   ]
  },
  {
   "cell_type": "code",
   "execution_count": 40,
   "metadata": {},
   "outputs": [
    {
     "data": {
      "image/png": "[encoded data removed]"
     },
     "execution_count": 40,
     "metadata": {},
     "output_type": "execute_result"
    }
   ],
   "source": [
    "using Plots\n",
    "scatter(x,t./1e9, label=\"\")\n",
    "plot!(x,t./1e9, label=\"\")\n",
    "xlabel!(\"Number of trees\")\n",
    "ylabel!(\"Memory allocation, GiB\")"
   ]
  },
  {
   "cell_type": "code",
   "execution_count": 24,
   "metadata": {},
   "outputs": [
    {
     "name": "stdout",
     "output_type": "stream",
     "text": [
      "  0.128768 seconds (101.77 k allocations: 21.879 MiB, 3.85% gc time)\n",
      "Correct: 0.873\n",
      "Error: 0.127\n"
     ]
    }
   ],
   "source": [
    "using DecisionTree\n",
    "@time forest = build_forest(Y, X, d, 10)\n",
    "\n",
    "pred = 1*apply_forest(forest,x)\n",
    "println(\"Correct: \", correctrate(y, pred))\n",
    "println(\"Error: \", errorrate(y,pred))"
   ]
  },
  {
   "cell_type": "code",
   "execution_count": null,
   "metadata": {},
   "outputs": [],
   "source": []
  },
  {
   "cell_type": "code",
   "execution_count": 104,
   "metadata": {},
   "outputs": [
    {
     "name": "stdout",
     "output_type": "stream",
     "text": [
      "[0, 0]\n",
      "[0, 0]\n",
      "[0, 1]\n",
      "[0, 0]\n",
      "[38, 0]\n",
      "[2, 3]\n",
      "[0, 0]\n",
      "[6, 5]\n",
      "[35, 2]\n",
      "[30, 19]\n",
      "[0, 0]\n",
      "[0, 0]\n",
      "[7, 3]\n",
      "[394, 182]\n",
      "[0, 0]\n",
      "[0, 1]\n",
      "[0, 1]\n",
      "[21, 26]\n",
      "[0, 38]\n",
      "[1, 45]\n",
      "[0, 2]\n",
      "[0, 20]\n",
      "[0, 25]\n",
      "[0, 0]\n",
      "[0, 0]\n",
      "[0, 0]\n",
      "[0, 0]\n",
      "[0, 0]\n",
      "[0, 0]\n",
      "[0, 1]\n",
      "[0, 10]\n",
      "[0, 0]\n",
      "[0, 1]\n",
      "[0, 32]\n",
      "[0, 0]\n",
      "[0, 0]\n",
      "[0, 24]\n",
      "[0, 3]\n",
      "[0, 21]\n",
      "[0, 1]\n"
     ]
    }
   ],
   "source": [
    "for leaf in MT.leaves\n",
    "    println(leaf.c)\n",
    "end"
   ]
  },
  {
   "cell_type": "code",
   "execution_count": 91,
   "metadata": {},
   "outputs": [
    {
     "name": "stdout",
     "output_type": "stream",
     "text": [
      "leafL\n",
      "leaf\n",
      "leaf\n",
      "leafR\n",
      "leaf\n",
      "leafR\n",
      "leafL\n",
      "leaf\n",
      "leaf\n",
      "leaf\n",
      "leafL\n",
      "leaf\n",
      "leaf\n",
      "leafL\n",
      "leaf\n",
      "leaf\n",
      "leafL\n",
      "leaf\n",
      "leafL\n",
      "leaf\n",
      "leaf\n",
      "leafR\n",
      "leaf\n",
      "leaf\n",
      "leafR\n",
      "leafL\n",
      "leaf\n",
      "leafR\n",
      "leaf\n",
      "leafL\n",
      "leaf\n",
      "leaf\n",
      "leaf\n",
      "leaf\n",
      "leaf\n",
      "leaf\n",
      "leaf\n",
      "leaf\n",
      "leaf\n",
      "leaf\n",
      "leaf\n",
      "leafR\n",
      "leaf\n",
      "leaf\n",
      "leafL\n",
      "leaf\n",
      "leafL\n",
      "leaf\n",
      "leafL\n",
      "leaf\n",
      "leafR\n",
      "leafL\n",
      "leaf\n",
      "leafR\n",
      "leafL\n",
      "leaf\n",
      "leafR\n",
      "leafR\n",
      "leafR\n",
      "leafL\n",
      "leaf\n",
      "leaf\n",
      "leafL\n",
      "leaf\n",
      "leafR\n",
      "leafR\n",
      "leafR\n",
      "leaf\n",
      "leaf\n",
      "leafR\n",
      "leaf\n",
      "leaf\n",
      "leafR\n",
      "leaf\n",
      "leafR\n",
      "leaf\n",
      "leaf\n",
      "leafR\n",
      "leafR\n",
      "leaf\n",
      "leaf\n",
      "leaf\n",
      "leaf\n",
      "leaf\n",
      "leafR\n",
      "leaf\n",
      "leaf\n",
      "leafL\n",
      "leaf\n",
      "leaf\n",
      "leafR\n",
      "leaf\n",
      "leafL\n",
      "leaf\n",
      "leaf\n",
      "leaf\n",
      "leafR\n",
      "leafL\n",
      "leaf\n",
      "leafR\n",
      "leafR\n",
      "leafL\n",
      "leaf\n",
      "leafR\n",
      "leafR\n",
      "leaf\n",
      "leaf\n",
      "leaf\n",
      "leafL\n",
      "leaf\n",
      "leafR\n",
      "leafL\n",
      "leaf\n",
      "leaf\n",
      "leafR\n",
      "leaf\n",
      "leaf\n",
      "leaf\n",
      "leafR\n",
      "leaf\n",
      "leaf\n",
      "leaf\n",
      "leafR\n",
      "leafR\n",
      "leaf\n",
      "leafR\n",
      "leafL\n",
      "leaf\n",
      "leafR\n",
      "leafR\n",
      "leafL\n",
      "leaf\n",
      "leafR\n",
      "leafR\n",
      "leafL\n",
      "leaf\n",
      "leafR\n",
      "leafR\n",
      "leafL\n",
      "leaf\n",
      "leafR\n",
      "leaf\n",
      "leafL\n",
      "leaf\n",
      "leafR\n",
      "leaf\n",
      "leafL\n",
      "leaf\n",
      "leafR\n",
      "leaf\n",
      "leaf\n",
      "leaf\n",
      "leafR\n",
      "leaf\n",
      "leaf\n",
      "leafR\n",
      "leafR\n",
      "leafL\n",
      "leaf\n",
      "leafR\n",
      "leafR\n",
      "leaf\n",
      "leaf\n",
      "leaf\n",
      "leafR\n",
      "leafR\n",
      "leafL\n",
      "leaf\n",
      "leafR\n",
      "leaf\n",
      "leafR\n",
      "leafR\n",
      "leafR\n",
      "leafR\n",
      "leafR\n",
      "leafR\n",
      "leafL\n",
      "leaf\n",
      "leafR\n",
      "leafL\n",
      "leaf\n",
      "leafR\n",
      "leafL\n",
      "leaf\n",
      "leafR\n",
      "leafR\n",
      "leafL\n",
      "leaf\n",
      "leafR\n",
      "leafR\n",
      "leafR\n",
      "leaf\n",
      "leaf\n",
      "leafR\n",
      "leafR\n",
      "leaf\n",
      "leafR\n",
      "leafR\n",
      "leafR\n",
      "leafR\n",
      "leafR\n",
      "leafR\n",
      "leafL\n",
      "leaf\n",
      "leaf\n",
      "leaf\n",
      "leaf\n",
      "leaf\n",
      "leaf\n",
      "leaf\n",
      "leafR\n",
      "leafL\n",
      "leaf\n",
      "leafL\n",
      "leaf\n",
      "leafR\n",
      "leafR\n",
      "leafL\n",
      "leaf\n",
      "leafR\n",
      "leafR\n",
      "leafR\n",
      "leafL\n",
      "leaf\n",
      "leaf\n",
      "leafR\n",
      "leafR\n",
      "leaf\n",
      "leaf\n",
      "leafR\n",
      "leafL\n",
      "leaf\n",
      "leaf\n",
      "leafR\n",
      "leafR\n",
      "leafR\n",
      "leafR\n",
      "leafL\n",
      "leaf\n",
      "leafR\n",
      "leafL\n",
      "leaf\n",
      "leafL\n",
      "leaf\n",
      "leafR\n",
      "leaf\n",
      "leaf\n",
      "leafR\n",
      "leaf\n",
      "leafR\n",
      "leafR\n",
      "leafR\n",
      "leafL\n",
      "leaf\n",
      "leafL\n",
      "leaf\n",
      "leaf\n",
      "leafR\n",
      "leaf\n",
      "leafL\n",
      "leaf\n",
      "leafL\n",
      "leaf\n",
      "leafR\n",
      "leafL\n",
      "leaf\n",
      "leafR\n",
      "leafR\n",
      "leafL\n",
      "leaf\n",
      "leaf\n",
      "leafR\n",
      "leafR\n",
      "leaf\n",
      "leafR\n",
      "leafL\n",
      "leaf\n",
      "leafR\n",
      "leaf\n",
      "leaf\n",
      "leafL\n",
      "leaf\n",
      "leafR\n",
      "leafR\n",
      "leafR\n",
      "leafR\n",
      "leafL\n",
      "leaf\n",
      "leafL\n",
      "leaf\n",
      "leafR\n",
      "leafR\n",
      "leafR\n",
      "  0.145498 seconds (2.93 M allocations: 60.123 MiB, 7.56% gc time)\n"
     ]
    }
   ],
   "source": [
    "include(\"load_titanic.jl\")\n",
    "x_train, y_train, x_test, y_test = load();\n",
    "D = (x_train, y_train.+1)\n",
    "D_test = (x_test,y_test.+1)\n",
    "@time MT = Sample_Mondrian_Tree(0.03,D);\n",
    "initialize_posterior_counts!(MT,D);\n",
    "compute_predictive_posterior_distribution!(MT,10*size(D[1],2));"
   ]
  },
  {
   "cell_type": "code",
   "execution_count": 92,
   "metadata": {},
   "outputs": [
    {
     "name": "stdout",
     "output_type": "stream",
     "text": [
      "0.6\n",
      "[2, 1]\n"
     ]
    }
   ],
   "source": [
    "using MLBase\n",
    "pred = []\n",
    "for i in 1:size(D_test[1],1) \n",
    "    p = predict!(MT,D_test[1][i,:],10*size(D_test[1],2))\n",
    "    if p[1] > p[2]\n",
    "        push!(pred,1)\n",
    "    else\n",
    "        push!(pred,2)\n",
    "    end\n",
    "end\n",
    "println(correctrate(D_test[2],convert(Array{Int,1},pred)))\n",
    "println(unique(pred))"
   ]
  },
  {
   "cell_type": "code",
   "execution_count": 287,
   "metadata": {},
   "outputs": [
    {
     "ename": "LoadError",
     "evalue": "\u001b[91mtype Mondrian_Node has no field Intervals\u001b[39m",
     "output_type": "error",
     "traceback": [
      "\u001b[91mtype Mondrian_Node has no field Intervals\u001b[39m",
      "",
      "Stacktrace:",
      " [1] \u001b[1minclude_string\u001b[22m\u001b[22m\u001b[1m(\u001b[22m\u001b[22m::String, ::String\u001b[1m)\u001b[22m\u001b[22m at \u001b[1m./loading.jl:522\u001b[22m\u001b[22m"
     ]
    }
   ],
   "source": [
    "a.Intervals"
   ]
  },
  {
   "cell_type": "code",
   "execution_count": 43,
   "metadata": {},
   "outputs": [
    {
     "data": {
      "text/plain": [
       "false"
      ]
     },
     "execution_count": 43,
     "metadata": {},
     "output_type": "execute_result"
    }
   ],
   "source": [
    "D[1][1,2] < a.Intervals[2,1] || D[1][1,2] > a.Intervals[2,2]"
   ]
  },
  {
   "cell_type": "code",
   "execution_count": 40,
   "metadata": {},
   "outputs": [
    {
     "ename": "LoadError",
     "evalue": "\u001b[91mMethodError: no method matching getindex(::Tuple{Array{Float64,2},Array{Int64,1}}, ::Int64, ::Int64)\u001b[39m",
     "output_type": "error",
     "traceback": [
      "\u001b[91mMethodError: no method matching getindex(::Tuple{Array{Float64,2},Array{Int64,1}}, ::Int64, ::Int64)\u001b[39m",
      "",
      "Stacktrace:",
      " [1] \u001b[1minclude_string\u001b[22m\u001b[22m\u001b[1m(\u001b[22m\u001b[22m::String, ::String\u001b[1m)\u001b[22m\u001b[22m at \u001b[1m./loading.jl:522\u001b[22m\u001b[22m"
     ]
    }
   ],
   "source": [
    "D[1,2]"
   ]
  },
  {
   "cell_type": "code",
   "execution_count": 22,
   "metadata": {},
   "outputs": [
    {
     "data": {
      "text/plain": [
       "5-element Array{Int64,1}:\n",
       " 1\n",
       " 2\n",
       " 2\n",
       " 2\n",
       " 1"
      ]
     },
     "execution_count": 22,
     "metadata": {},
     "output_type": "execute_result"
    }
   ],
   "source": [
    "Y = [1,2,2,2,1]"
   ]
  },
  {
   "cell_type": "code",
   "execution_count": 24,
   "metadata": {},
   "outputs": [
    {
     "data": {
      "text/plain": [
       "2"
      ]
     },
     "execution_count": 24,
     "metadata": {},
     "output_type": "execute_result"
    }
   ],
   "source": [
    "size(Y[Y.==1],1)"
   ]
  },
  {
   "cell_type": "code",
   "execution_count": 16,
   "metadata": {},
   "outputs": [
    {
     "data": {
      "text/plain": [
       "2-element Array{Float64,1}:\n",
       " 1.0\n",
       " 1.0"
      ]
     },
     "execution_count": 16,
     "metadata": {},
     "output_type": "execute_result"
    }
   ],
   "source": [
    "ones(2)"
   ]
  },
  {
   "cell_type": "code",
   "execution_count": 17,
   "metadata": {},
   "outputs": [
    {
     "data": {
      "text/plain": [
       "7.38905609893065"
      ]
     },
     "execution_count": 17,
     "metadata": {},
     "output_type": "execute_result"
    }
   ],
   "source": [
    "exp(2)"
   ]
  },
  {
   "cell_type": "code",
   "execution_count": 19,
   "metadata": {},
   "outputs": [
    {
     "data": {
      "text/plain": [
       "6"
      ]
     },
     "execution_count": 19,
     "metadata": {},
     "output_type": "execute_result"
    }
   ],
   "source": [
    "sum([1,2,3])"
   ]
  },
  {
   "cell_type": "code",
   "execution_count": null,
   "metadata": {},
   "outputs": [],
   "source": []
  }
 ],
 "metadata": {
  "kernelspec": {
   "display_name": "julia-pro 0.6.2",
   "language": "julia",
   "name": "julia-pro-0.6"
  },
  "language_info": {
   "file_extension": ".jl",
   "mimetype": "application/julia",
   "name": "julia",
   "version": "0.6.2"
  }
 },
 "nbformat": 4,
 "nbformat_minor": 2
}
