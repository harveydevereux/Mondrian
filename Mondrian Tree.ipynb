{
 "cells": [
  {
   "cell_type": "code",
   "execution_count": 1,
   "metadata": {},
   "outputs": [],
   "source": [
    "type Mondrian_Node\n",
    "    children::Array\n",
    "    parent::Array\n",
    "    τ::Float64\n",
    "end\n",
    "\n",
    "function Mondrian_Node()\n",
    "    N = Mondrian_Node([],[],0)\n",
    "    return N\n",
    "end\n",
    "\n",
    "function Mondrian_Node(τ::Float64)\n",
    "    N = Mondrian_Node([], [], τ)\n",
    "    return N\n",
    "end\n",
    "\n",
    "type Mondrian_Tree\n",
    "    nodes::Array\n",
    "    leaves::Array\n",
    "end"
   ]
  },
  {
   "cell_type": "code",
   "execution_count": 2,
   "metadata": {},
   "outputs": [],
   "source": [
    "include(\"Axis_Aligned_Box.jl\");"
   ]
  },
  {
   "cell_type": "code",
   "execution_count": 35,
   "metadata": {},
   "outputs": [
    {
     "data": {
      "text/plain": [
       "Sample_Mondrian_Block (generic function with 2 methods)"
      ]
     },
     "execution_count": 35,
     "metadata": {},
     "output_type": "execute_result"
    }
   ],
   "source": [
    "using Distributions\n",
    "\n",
    "function Sample_Mondrian_Tree(λ,D)\n",
    "    nodes = []\n",
    "    leaves = []\n",
    "    δ = []\n",
    "    ζ = []\n",
    "    τ = []\n",
    "    n = 1:size(D,1)\n",
    "    e = Mondrian_Node(0.0)\n",
    "    Θ = Axis_Aligned_Box(get_intervals(D[1]))\n",
    "    Sample_Mondrian_Block(e, Θ, λ, δ, ζ, nodes, leaves)\n",
    "    return Mondrian_Tree(nodes,leaves)\n",
    "end\n",
    "\n",
    "function Sample_Mondrian_Block(j, Θ, λ, δ, ζ, nodes, leaves)\n",
    "    push!(nodes,j)\n",
    "    E = rand(Exponential(1/Linear_dimension(Θ)))\n",
    "    if length(nodes)==1\n",
    "        τₚ = 0\n",
    "    else\n",
    "        τₚ = (j.parent[1]).τ\n",
    "    end\n",
    "    if τₚ + E < λ\n",
    "        d,x = sample_split_dimension(Θ)\n",
    "        push!(δ,d)\n",
    "        push!(ζ,x)\n",
    "        Θᴸ = copy(Θ)\n",
    "        Θᴿ = copy(Θ)\n",
    "        Θᴸ.Intervals[d,2]=x\n",
    "        Θᴿ.Intervals[d,1]=x\n",
    "        left = Mondrian_Node(τₚ+E)\n",
    "        push!(left.parent,j)\n",
    "        right = Mondrian_Node(τₚ+E)\n",
    "        push!(right.parent,j)\n",
    "        push!(j.children,left)\n",
    "        push!(j.children,right)\n",
    "        Sample_Mondrian_Block(left, Θᴸ, λ, δ, ζ, nodes, leaves)\n",
    "        Sample_Mondrian_Block(right, Θᴿ,λ, δ, ζ, nodes, leaves)\n",
    "    else\n",
    "        j.τ = λ\n",
    "        push!(leaves,j)\n",
    "    end\n",
    "end"
   ]
  },
  {
   "cell_type": "code",
   "execution_count": 36,
   "metadata": {},
   "outputs": [
    {
     "data": {
      "text/plain": [
       "([1 2 3; 4 5 6; 7 8 9], [1, 2, 3])"
      ]
     },
     "execution_count": 36,
     "metadata": {},
     "output_type": "execute_result"
    }
   ],
   "source": [
    "X = [1 2 3; 4 5 6; 7 8 9]\n",
    "Y = [1,2,3]\n",
    "D = (X,Y)"
   ]
  },
  {
   "cell_type": "code",
   "execution_count": 43,
   "metadata": {},
   "outputs": [],
   "source": [
    "M = Sample_Mondrian_Tree(1,D);"
   ]
  },
  {
   "cell_type": "code",
   "execution_count": null,
   "metadata": {},
   "outputs": [],
   "source": []
  },
  {
   "cell_type": "code",
   "execution_count": null,
   "metadata": {},
   "outputs": [],
   "source": []
  }
 ],
 "metadata": {
  "kernelspec": {
   "display_name": "julia-pro 0.6.2",
   "language": "julia",
   "name": "julia-pro-0.6"
  },
  "language_info": {
   "file_extension": ".jl",
   "mimetype": "application/julia",
   "name": "julia",
   "version": "0.6.2"
  }
 },
 "nbformat": 4,
 "nbformat_minor": 2
}
