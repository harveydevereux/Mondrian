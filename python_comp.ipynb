{
 "cells": [
  {
   "cell_type": "code",
   "execution_count": 98,
   "metadata": {},
   "outputs": [],
   "source": [
    "import mondrianforest as mf\n",
    "import numpy as np\n",
    "import time\n",
    "import sys\n",
    "import tracemalloc"
   ]
  },
  {
   "cell_type": "code",
   "execution_count": 91,
   "metadata": {},
   "outputs": [
    {
     "data": {
      "text/plain": [
       "array([[ 0.09743873, -1.46918805],\n",
       "       [ 1.08006703,  0.70141962]])"
      ]
     },
     "execution_count": 91,
     "metadata": {},
     "output_type": "execute_result"
    }
   ],
   "source": [
    "np.random.randn(2,2)"
   ]
  },
  {
   "cell_type": "code",
   "execution_count": 92,
   "metadata": {},
   "outputs": [],
   "source": [
    "def fake_data(n,dim):\n",
    "    x = np.random.randn(n,dim)\n",
    "    y = (np.sum(x/(1+np.exp(x)),axis=1))>0\n",
    "    return x,y"
   ]
  },
  {
   "cell_type": "code",
   "execution_count": 131,
   "metadata": {},
   "outputs": [],
   "source": [
    "x,y = fake_data(1000,5)\n",
    "X,Y = fake_data(1000,5)"
   ]
  },
  {
   "cell_type": "code",
   "execution_count": 132,
   "metadata": {},
   "outputs": [
    {
     "name": "stderr",
     "output_type": "stream",
     "text": [
      "/home/harvey/.local/lib/python3.5/site-packages/mondrianforest/classifier.py:76: RuntimeWarning: invalid value encountered in double_scalars\n",
      "  res[label] /= sum_prob\n"
     ]
    },
    {
     "name": "stdout",
     "output_type": "stream",
     "text": [
      "12.434391736984253\n"
     ]
    }
   ],
   "source": [
    "a = time.time()\n",
    "f = mf.MondrianForestClassifier(n_tree=10)\n",
    "f.fit(x,y)\n",
    "f.predict_proba(X)\n",
    "print(time.time()-a)"
   ]
  },
  {
   "cell_type": "code",
   "execution_count": 133,
   "metadata": {},
   "outputs": [
    {
     "name": "stderr",
     "output_type": "stream",
     "text": [
      "/home/harvey/.local/lib/python3.5/site-packages/mondrianforest/classifier.py:76: RuntimeWarning: invalid value encountered in double_scalars\n",
      "  res[label] /= sum_prob\n"
     ]
    }
   ],
   "source": [
    "tracemalloc.start()\n",
    "f = mf.MondrianForestClassifier(n_tree=10)\n",
    "f.fit(x,y)\n",
    "f.predict_proba(X)\n",
    "snap = tracemalloc.take_snapshot()"
   ]
  },
  {
   "cell_type": "code",
   "execution_count": 134,
   "metadata": {},
   "outputs": [
    {
     "name": "stdout",
     "output_type": "stream",
     "text": [
      "1088082 memory blocks: 106876.1 KiB\n",
      "733239 memory blocks: 78931.3 KiB\n",
      "467379 memory blocks: 48646.7 KiB\n",
      "155562 memory blocks: 34029.2 KiB\n",
      "310944 memory blocks: 18218.8 KiB\n",
      "372030 memory blocks: 15535.6 KiB\n",
      "310969 memory blocks: 14581.5 KiB\n",
      "310856 memory blocks: 14579.8 KiB\n",
      "310812 memory blocks: 14579.1 KiB\n",
      "213753 memory blocks: 13043.0 KiB\n",
      "155252 memory blocks: 12129.0 KiB\n",
      "155918 memory blocks: 8530.8 KiB\n",
      "155562 memory blocks: 8507.3 KiB\n",
      "155406 memory blocks: 8498.8 KiB\n",
      "89857 memory blocks: 7020.1 KiB\n",
      "89857 memory blocks: 7020.1 KiB\n",
      "263440 memory blocks: 5330.4 KiB\n",
      "222233 memory blocks: 5208.6 KiB\n",
      "65549 memory blocks: 5121.0 KiB\n",
      "65549 memory blocks: 5121.0 KiB\n",
      "281282 memory blocks: 4395.2 KiB\n",
      "88579 memory blocks: 2076.1 KiB\n",
      "76407 memory blocks: 1194.9 KiB\n",
      "36994 memory blocks: 579.1 KiB\n",
      "776 memory blocks: 48.5 KiB\n",
      "210 memory blocks: 45.9 KiB\n",
      "5 memory blocks: 25.8 KiB\n",
      "48 memory blocks: 25.0 KiB\n",
      "880 memory blocks: 24.1 KiB\n",
      "21 memory blocks: 20.7 KiB\n",
      "35 memory blocks: 19.0 KiB\n",
      "384 memory blocks: 17.4 KiB\n",
      "247 memory blocks: 17.4 KiB\n",
      "213 memory blocks: 13.3 KiB\n",
      "176 memory blocks: 13.0 KiB\n",
      "200 memory blocks: 12.5 KiB\n",
      "194 memory blocks: 12.1 KiB\n",
      "1 memory blocks: 12.0 KiB\n",
      "1 memory blocks: 12.0 KiB\n",
      "210 memory blocks: 11.5 KiB\n",
      "145 memory blocks: 10.5 KiB\n",
      "138 memory blocks: 9.2 KiB\n",
      "132 memory blocks: 8.3 KiB\n",
      "74 memory blocks: 8.1 KiB\n",
      "20 memory blocks: 7.6 KiB\n",
      "130 memory blocks: 6.1 KiB\n",
      "43 memory blocks: 4.4 KiB\n",
      "33 memory blocks: 4.3 KiB\n",
      "36 memory blocks: 3.9 KiB\n",
      "53 memory blocks: 3.3 KiB\n",
      "1 memory blocks: 3.0 KiB\n",
      "34 memory blocks: 2.7 KiB\n",
      "3 memory blocks: 2.5 KiB\n",
      "6 memory blocks: 2.4 KiB\n",
      "10 memory blocks: 2.4 KiB\n",
      "13 memory blocks: 2.3 KiB\n",
      "4 memory blocks: 1.9 KiB\n",
      "34 memory blocks: 1.8 KiB\n",
      "26 memory blocks: 1.6 KiB\n",
      "26 memory blocks: 1.6 KiB\n",
      "4 memory blocks: 1.5 KiB\n",
      "53 memory blocks: 1.4 KiB\n",
      "23 memory blocks: 1.4 KiB\n",
      "60 memory blocks: 1.4 KiB\n",
      "4 memory blocks: 1.4 KiB\n",
      "3 memory blocks: 1.4 KiB\n",
      "17 memory blocks: 1.3 KiB\n",
      "19 memory blocks: 1.3 KiB\n",
      "2 memory blocks: 1.2 KiB\n",
      "1 memory blocks: 1.2 KiB\n",
      "1 memory blocks: 1.2 KiB\n",
      "18 memory blocks: 1.1 KiB\n",
      "2 memory blocks: 1.1 KiB\n",
      "2 memory blocks: 1.0 KiB\n",
      "14 memory blocks: 1.0 KiB\n",
      "16 memory blocks: 1.0 KiB\n",
      "14 memory blocks: 0.9 KiB\n",
      "2 memory blocks: 0.8 KiB\n",
      "2 memory blocks: 0.8 KiB\n",
      "2 memory blocks: 0.8 KiB\n",
      "11 memory blocks: 0.8 KiB\n",
      "12 memory blocks: 0.8 KiB\n",
      "4 memory blocks: 0.8 KiB\n",
      "4 memory blocks: 0.7 KiB\n",
      "11 memory blocks: 0.7 KiB\n",
      "24 memory blocks: 0.7 KiB\n",
      "3 memory blocks: 0.7 KiB\n",
      "3 memory blocks: 0.7 KiB\n",
      "1 memory blocks: 0.7 KiB\n",
      "2 memory blocks: 0.6 KiB\n",
      "1 memory blocks: 0.6 KiB\n",
      "1 memory blocks: 0.6 KiB\n",
      "1 memory blocks: 0.6 KiB\n",
      "11 memory blocks: 0.6 KiB\n",
      "1 memory blocks: 0.6 KiB\n",
      "1 memory blocks: 0.6 KiB\n",
      "2 memory blocks: 0.5 KiB\n",
      "3 memory blocks: 0.5 KiB\n",
      "1 memory blocks: 0.5 KiB\n",
      "1 memory blocks: 0.5 KiB\n",
      "1 memory blocks: 0.5 KiB\n",
      "6 memory blocks: 0.5 KiB\n",
      "1 memory blocks: 0.5 KiB\n",
      "9 memory blocks: 0.5 KiB\n",
      "1 memory blocks: 0.4 KiB\n",
      "2 memory blocks: 0.4 KiB\n",
      "2 memory blocks: 0.4 KiB\n",
      "2 memory blocks: 0.4 KiB\n",
      "2 memory blocks: 0.4 KiB\n",
      "2 memory blocks: 0.4 KiB\n",
      "1 memory blocks: 0.4 KiB\n",
      "1 memory blocks: 0.4 KiB\n",
      "1 memory blocks: 0.4 KiB\n",
      "3 memory blocks: 0.4 KiB\n",
      "1 memory blocks: 0.4 KiB\n",
      "1 memory blocks: 0.4 KiB\n",
      "1 memory blocks: 0.4 KiB\n",
      "17 memory blocks: 0.4 KiB\n",
      "6 memory blocks: 0.4 KiB\n",
      "2 memory blocks: 0.3 KiB\n",
      "6 memory blocks: 0.3 KiB\n",
      "3 memory blocks: 0.3 KiB\n",
      "20 memory blocks: 0.3 KiB\n",
      "5 memory blocks: 0.3 KiB\n",
      "5 memory blocks: 0.3 KiB\n",
      "4 memory blocks: 0.3 KiB\n",
      "5 memory blocks: 0.3 KiB\n",
      "4 memory blocks: 0.3 KiB\n",
      "4 memory blocks: 0.3 KiB\n",
      "2 memory blocks: 0.3 KiB\n",
      "5 memory blocks: 0.3 KiB\n",
      "2 memory blocks: 0.3 KiB\n",
      "1 memory blocks: 0.3 KiB\n",
      "7 memory blocks: 0.2 KiB\n",
      "4 memory blocks: 0.2 KiB\n",
      "4 memory blocks: 0.2 KiB\n",
      "4 memory blocks: 0.2 KiB\n",
      "4 memory blocks: 0.2 KiB\n",
      "4 memory blocks: 0.2 KiB\n",
      "4 memory blocks: 0.2 KiB\n",
      "3 memory blocks: 0.2 KiB\n",
      "3 memory blocks: 0.2 KiB\n",
      "3 memory blocks: 0.2 KiB\n",
      "1 memory blocks: 0.2 KiB\n",
      "1 memory blocks: 0.2 KiB\n",
      "1 memory blocks: 0.2 KiB\n",
      "1 memory blocks: 0.2 KiB\n",
      "3 memory blocks: 0.2 KiB\n",
      "1 memory blocks: 0.2 KiB\n",
      "4 memory blocks: 0.2 KiB\n",
      "3 memory blocks: 0.2 KiB\n",
      "3 memory blocks: 0.2 KiB\n",
      "2 memory blocks: 0.2 KiB\n",
      "3 memory blocks: 0.2 KiB\n",
      "3 memory blocks: 0.2 KiB\n",
      "2 memory blocks: 0.2 KiB\n",
      "2 memory blocks: 0.2 KiB\n",
      "2 memory blocks: 0.2 KiB\n",
      "2 memory blocks: 0.2 KiB\n",
      "2 memory blocks: 0.1 KiB\n",
      "2 memory blocks: 0.1 KiB\n",
      "2 memory blocks: 0.1 KiB\n",
      "2 memory blocks: 0.1 KiB\n",
      "2 memory blocks: 0.1 KiB\n",
      "2 memory blocks: 0.1 KiB\n",
      "1 memory blocks: 0.1 KiB\n",
      "1 memory blocks: 0.1 KiB\n",
      "2 memory blocks: 0.1 KiB\n",
      "2 memory blocks: 0.1 KiB\n",
      "2 memory blocks: 0.1 KiB\n",
      "2 memory blocks: 0.1 KiB\n",
      "2 memory blocks: 0.1 KiB\n",
      "2 memory blocks: 0.1 KiB\n",
      "2 memory blocks: 0.1 KiB\n",
      "2 memory blocks: 0.1 KiB\n",
      "2 memory blocks: 0.1 KiB\n",
      "2 memory blocks: 0.1 KiB\n",
      "1 memory blocks: 0.1 KiB\n",
      "2 memory blocks: 0.1 KiB\n",
      "2 memory blocks: 0.1 KiB\n",
      "2 memory blocks: 0.1 KiB\n",
      "1 memory blocks: 0.1 KiB\n",
      "3 memory blocks: 0.1 KiB\n",
      "2 memory blocks: 0.1 KiB\n",
      "1 memory blocks: 0.1 KiB\n",
      "1 memory blocks: 0.1 KiB\n",
      "1 memory blocks: 0.1 KiB\n",
      "1 memory blocks: 0.1 KiB\n",
      "1 memory blocks: 0.1 KiB\n",
      "1 memory blocks: 0.1 KiB\n",
      "1 memory blocks: 0.1 KiB\n",
      "3 memory blocks: 0.1 KiB\n",
      "3 memory blocks: 0.1 KiB\n",
      "3 memory blocks: 0.1 KiB\n",
      "3 memory blocks: 0.1 KiB\n",
      "2 memory blocks: 0.1 KiB\n",
      "1 memory blocks: 0.1 KiB\n",
      "1 memory blocks: 0.1 KiB\n",
      "1 memory blocks: 0.1 KiB\n",
      "1 memory blocks: 0.1 KiB\n",
      "1 memory blocks: 0.1 KiB\n",
      "1 memory blocks: 0.1 KiB\n",
      "1 memory blocks: 0.1 KiB\n",
      "1 memory blocks: 0.1 KiB\n",
      "2 memory blocks: 0.1 KiB\n",
      "2 memory blocks: 0.1 KiB\n",
      "1 memory blocks: 0.1 KiB\n",
      "1 memory blocks: 0.1 KiB\n",
      "1 memory blocks: 0.1 KiB\n",
      "1 memory blocks: 0.1 KiB\n",
      "1 memory blocks: 0.1 KiB\n",
      "1 memory blocks: 0.1 KiB\n",
      "1 memory blocks: 0.1 KiB\n",
      "1 memory blocks: 0.1 KiB\n",
      "1 memory blocks: 0.1 KiB\n",
      "1 memory blocks: 0.1 KiB\n",
      "1 memory blocks: 0.1 KiB\n",
      "1 memory blocks: 0.1 KiB\n",
      "1 memory blocks: 0.1 KiB\n",
      "1 memory blocks: 0.1 KiB\n",
      "1 memory blocks: 0.1 KiB\n",
      "1 memory blocks: 0.1 KiB\n",
      "1 memory blocks: 0.1 KiB\n",
      "1 memory blocks: 0.1 KiB\n",
      "1 memory blocks: 0.1 KiB\n",
      "1 memory blocks: 0.1 KiB\n",
      "1 memory blocks: 0.1 KiB\n",
      "1 memory blocks: 0.1 KiB\n",
      "1 memory blocks: 0.1 KiB\n",
      "1 memory blocks: 0.1 KiB\n",
      "1 memory blocks: 0.1 KiB\n",
      "1 memory blocks: 0.1 KiB\n",
      "1 memory blocks: 0.1 KiB\n",
      "1 memory blocks: 0.1 KiB\n",
      "1 memory blocks: 0.1 KiB\n",
      "1 memory blocks: 0.1 KiB\n",
      "1 memory blocks: 0.1 KiB\n",
      "1 memory blocks: 0.1 KiB\n",
      "1 memory blocks: 0.1 KiB\n",
      "1 memory blocks: 0.1 KiB\n",
      "2 memory blocks: 0.0 KiB\n",
      "2 memory blocks: 0.0 KiB\n",
      "1 memory blocks: 0.0 KiB\n",
      "1 memory blocks: 0.0 KiB\n",
      "1 memory blocks: 0.0 KiB\n",
      "1 memory blocks: 0.0 KiB\n",
      "1 memory blocks: 0.0 KiB\n",
      "1 memory blocks: 0.0 KiB\n",
      "Total 429.914249420166 MiB\n"
     ]
    }
   ],
   "source": [
    "s=0\n",
    "for stat in snap.statistics('lineno'):\n",
    "    s = s + stat.size/1024**2\n",
    "    print(\"%s memory blocks: %.1f KiB\" % (stat.count, stat.size / 1024))\n",
    "print(\"Total {} MiB\".format(s))"
   ]
  },
  {
   "cell_type": "code",
   "execution_count": 136,
   "metadata": {},
   "outputs": [
    {
     "name": "stderr",
     "output_type": "stream",
     "text": [
      "/home/harvey/.local/lib/python3.5/site-packages/mondrianforest/classifier.py:76: RuntimeWarning: invalid value encountered in double_scalars\n",
      "  res[label] /= sum_prob\n"
     ]
    },
    {
     "data": {
      "text/plain": [
       "0.924"
      ]
     },
     "execution_count": 136,
     "metadata": {},
     "output_type": "execute_result"
    }
   ],
   "source": [
    "f.score(X,Y)"
   ]
  },
  {
   "cell_type": "code",
   "execution_count": 137,
   "metadata": {},
   "outputs": [
    {
     "data": {
      "text/plain": [
       "56"
      ]
     },
     "execution_count": 137,
     "metadata": {},
     "output_type": "execute_result"
    }
   ],
   "source": [
    "sys.getsizeof(f)"
   ]
  },
  {
   "cell_type": "code",
   "execution_count": 138,
   "metadata": {},
   "outputs": [
    {
     "data": {
      "text/plain": [
       "<mondrianforest.node.MondrianTreeClassifier at 0x7f3863ff1f98>"
      ]
     },
     "execution_count": 138,
     "metadata": {},
     "output_type": "execute_result"
    }
   ],
   "source": [
    "f.trees[1]"
   ]
  },
  {
   "cell_type": "code",
   "execution_count": null,
   "metadata": {},
   "outputs": [],
   "source": []
  }
 ],
 "metadata": {
  "kernelspec": {
   "display_name": "Python 3",
   "language": "python",
   "name": "python3"
  },
  "language_info": {
   "codemirror_mode": {
    "name": "ipython",
    "version": 3
   },
   "file_extension": ".py",
   "mimetype": "text/x-python",
   "name": "python",
   "nbconvert_exporter": "python",
   "pygments_lexer": "ipython3",
   "version": "3.5.2"
  }
 },
 "nbformat": 4,
 "nbformat_minor": 2
}
