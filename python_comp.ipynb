{
 "cells": [
  {
   "cell_type": "code",
   "execution_count": 18,
   "metadata": {},
   "outputs": [],
   "source": [
    "import mondrianforest as mf\n",
    "import numpy as np\n",
    "import time\n",
    "import sys\n",
    "import tracemalloc\n",
    "import matplotlib.pyplot as plt"
   ]
  },
  {
   "cell_type": "code",
   "execution_count": 3,
   "metadata": {},
   "outputs": [],
   "source": [
    "def fake_data(n,dim):\n",
    "    x = np.random.randn(n,dim)\n",
    "    y = (np.sum(x/(1+np.exp(x)),axis=1))>0\n",
    "    return x,y"
   ]
  },
  {
   "cell_type": "code",
   "execution_count": 9,
   "metadata": {},
   "outputs": [],
   "source": [
    "x,y = fake_data(1000,5)\n",
    "X,Y = fake_data(100,5)"
   ]
  },
  {
   "cell_type": "code",
   "execution_count": 10,
   "metadata": {},
   "outputs": [
    {
     "name": "stderr",
     "output_type": "stream",
     "text": [
      "/home/harvey/.local/lib/python3.5/site-packages/mondrianforest/classifier.py:76: RuntimeWarning: invalid value encountered in double_scalars\n",
      "  res[label] /= sum_prob\n"
     ]
    },
    {
     "name": "stdout",
     "output_type": "stream",
     "text": [
      "33.0766761302948\n"
     ]
    }
   ],
   "source": [
    "a = time.time()\n",
    "f = mf.MondrianForestClassifier(n_tree=100)\n",
    "f.fit(x,y)\n",
    "f.predict_proba(X)\n",
    "print(time.time()-a)"
   ]
  },
  {
   "cell_type": "code",
   "execution_count": 11,
   "metadata": {},
   "outputs": [
    {
     "name": "stderr",
     "output_type": "stream",
     "text": [
      "/home/harvey/.local/lib/python3.5/site-packages/mondrianforest/classifier.py:76: RuntimeWarning: invalid value encountered in double_scalars\n",
      "  res[label] /= sum_prob\n"
     ]
    },
    {
     "data": {
      "text/plain": [
       "0.91"
      ]
     },
     "execution_count": 11,
     "metadata": {},
     "output_type": "execute_result"
    }
   ],
   "source": [
    "f.score(X,Y)"
   ]
  },
  {
   "cell_type": "code",
   "execution_count": 141,
   "metadata": {},
   "outputs": [
    {
     "name": "stderr",
     "output_type": "stream",
     "text": [
      "/home/harvey/.local/lib/python3.5/site-packages/mondrianforest/classifier.py:76: RuntimeWarning: invalid value encountered in double_scalars\n",
      "  res[label] /= sum_prob\n"
     ]
    }
   ],
   "source": [
    "tracemalloc.start()\n",
    "f = mf.MondrianForestClassifier(n_tree=100)\n",
    "f.fit(x,y)\n",
    "f.predict_proba(X)\n",
    "snap = tracemalloc.take_snapshot()"
   ]
  },
  {
   "cell_type": "code",
   "execution_count": 142,
   "metadata": {},
   "outputs": [
    {
     "name": "stdout",
     "output_type": "stream",
     "text": [
      "1584744 memory blocks: 155658.6 KiB\n",
      "1019383 memory blocks: 108110.0 KiB\n",
      "680477 memory blocks: 70835.9 KiB\n",
      "226562 memory blocks: 49560.4 KiB\n",
      "452876 memory blocks: 26534.8 KiB\n",
      "545718 memory blocks: 22687.0 KiB\n",
      "452896 memory blocks: 21236.6 KiB\n",
      "452731 memory blocks: 21234.0 KiB\n",
      "452690 memory blocks: 21233.4 KiB\n",
      "315598 memory blocks: 19063.0 KiB\n",
      "226111 memory blocks: 17664.9 KiB\n",
      "227052 memory blocks: 12422.6 KiB\n",
      "226562 memory blocks: 12390.1 KiB\n",
      "226335 memory blocks: 12377.7 KiB\n",
      "130541 memory blocks: 10198.5 KiB\n",
      "130541 memory blocks: 10198.5 KiB\n",
      "383850 memory blocks: 7765.9 KiB\n",
      "322004 memory blocks: 7547.0 KiB\n",
      "95794 memory blocks: 7483.9 KiB\n",
      "95794 memory blocks: 7483.9 KiB\n",
      "409920 memory blocks: 6405.3 KiB\n",
      "130688 memory blocks: 3063.0 KiB\n",
      "107650 memory blocks: 1683.1 KiB\n",
      "48858 memory blocks: 764.5 KiB\n",
      "301 memory blocks: 65.8 KiB\n",
      "1493 memory blocks: 40.8 KiB\n",
      "604 memory blocks: 28.3 KiB\n",
      "6 memory blocks: 25.9 KiB\n",
      "47 memory blocks: 24.3 KiB\n",
      "21 memory blocks: 20.7 KiB\n",
      "36 memory blocks: 19.6 KiB\n",
      "304 memory blocks: 18.9 KiB\n",
      "269 memory blocks: 16.8 KiB\n",
      "266 memory blocks: 16.6 KiB\n",
      "301 memory blocks: 16.5 KiB\n",
      "1 memory blocks: 12.0 KiB\n",
      "1 memory blocks: 12.0 KiB\n",
      "159 memory blocks: 12.0 KiB\n",
      "167 memory blocks: 11.0 KiB\n",
      "81 memory blocks: 8.9 KiB\n",
      "133 memory blocks: 8.4 KiB\n",
      "20 memory blocks: 7.6 KiB\n",
      "108 memory blocks: 7.2 KiB\n",
      "130 memory blocks: 6.1 KiB\n",
      "92 memory blocks: 5.8 KiB\n",
      "51 memory blocks: 5.2 KiB\n",
      "41 memory blocks: 5.2 KiB\n",
      "44 memory blocks: 4.5 KiB\n",
      "42 memory blocks: 3.3 KiB\n",
      "1 memory blocks: 3.0 KiB\n",
      "39 memory blocks: 2.4 KiB\n",
      "6 memory blocks: 2.4 KiB\n",
      "13 memory blocks: 2.3 KiB\n",
      "42 memory blocks: 2.2 KiB\n",
      "5 memory blocks: 2.1 KiB\n",
      "10 memory blocks: 1.9 KiB\n",
      "4 memory blocks: 1.9 KiB\n",
      "3 memory blocks: 1.7 KiB\n",
      "3 memory blocks: 1.6 KiB\n",
      "24 memory blocks: 1.5 KiB\n",
      "24 memory blocks: 1.5 KiB\n",
      "53 memory blocks: 1.4 KiB\n",
      "3 memory blocks: 1.4 KiB\n",
      "17 memory blocks: 1.3 KiB\n",
      "19 memory blocks: 1.3 KiB\n",
      "2 memory blocks: 1.2 KiB\n",
      "2 memory blocks: 1.2 KiB\n",
      "19 memory blocks: 1.2 KiB\n",
      "19 memory blocks: 1.2 KiB\n",
      "1 memory blocks: 1.2 KiB\n",
      "1 memory blocks: 1.2 KiB\n",
      "2 memory blocks: 1.1 KiB\n",
      "47 memory blocks: 1.1 KiB\n",
      "2 memory blocks: 1.0 KiB\n",
      "16 memory blocks: 1.0 KiB\n",
      "11 memory blocks: 0.8 KiB\n",
      "2 memory blocks: 0.8 KiB\n",
      "1 memory blocks: 0.8 KiB\n",
      "12 memory blocks: 0.8 KiB\n",
      "13 memory blocks: 0.8 KiB\n",
      "2 memory blocks: 0.8 KiB\n",
      "2 memory blocks: 0.8 KiB\n",
      "4 memory blocks: 0.7 KiB\n",
      "3 memory blocks: 0.7 KiB\n",
      "13 memory blocks: 0.7 KiB\n",
      "24 memory blocks: 0.7 KiB\n",
      "3 memory blocks: 0.7 KiB\n",
      "3 memory blocks: 0.7 KiB\n",
      "1 memory blocks: 0.7 KiB\n",
      "1 memory blocks: 0.6 KiB\n",
      "1 memory blocks: 0.6 KiB\n",
      "4 memory blocks: 0.6 KiB\n",
      "2 memory blocks: 0.6 KiB\n",
      "1 memory blocks: 0.6 KiB\n",
      "2 memory blocks: 0.5 KiB\n",
      "1 memory blocks: 0.5 KiB\n",
      "1 memory blocks: 0.5 KiB\n",
      "4 memory blocks: 0.5 KiB\n",
      "1 memory blocks: 0.5 KiB\n",
      "1 memory blocks: 0.5 KiB\n",
      "5 memory blocks: 0.4 KiB\n",
      "1 memory blocks: 0.4 KiB\n",
      "7 memory blocks: 0.4 KiB\n",
      "2 memory blocks: 0.4 KiB\n",
      "2 memory blocks: 0.4 KiB\n",
      "2 memory blocks: 0.4 KiB\n",
      "2 memory blocks: 0.4 KiB\n",
      "2 memory blocks: 0.4 KiB\n",
      "1 memory blocks: 0.4 KiB\n",
      "1 memory blocks: 0.4 KiB\n",
      "1 memory blocks: 0.4 KiB\n",
      "7 memory blocks: 0.4 KiB\n",
      "1 memory blocks: 0.4 KiB\n",
      "1 memory blocks: 0.4 KiB\n",
      "1 memory blocks: 0.4 KiB\n",
      "17 memory blocks: 0.4 KiB\n",
      "7 memory blocks: 0.4 KiB\n",
      "2 memory blocks: 0.3 KiB\n",
      "8 memory blocks: 0.3 KiB\n",
      "5 memory blocks: 0.3 KiB\n",
      "4 memory blocks: 0.3 KiB\n",
      "4 memory blocks: 0.3 KiB\n",
      "2 memory blocks: 0.3 KiB\n",
      "5 memory blocks: 0.3 KiB\n",
      "2 memory blocks: 0.3 KiB\n",
      "1 memory blocks: 0.3 KiB\n",
      "16 memory blocks: 0.2 KiB\n",
      "4 memory blocks: 0.2 KiB\n",
      "4 memory blocks: 0.2 KiB\n",
      "4 memory blocks: 0.2 KiB\n",
      "4 memory blocks: 0.2 KiB\n",
      "3 memory blocks: 0.2 KiB\n",
      "3 memory blocks: 0.2 KiB\n",
      "3 memory blocks: 0.2 KiB\n",
      "3 memory blocks: 0.2 KiB\n",
      "1 memory blocks: 0.2 KiB\n",
      "1 memory blocks: 0.2 KiB\n",
      "1 memory blocks: 0.2 KiB\n",
      "1 memory blocks: 0.2 KiB\n",
      "4 memory blocks: 0.2 KiB\n",
      "1 memory blocks: 0.2 KiB\n",
      "3 memory blocks: 0.2 KiB\n",
      "3 memory blocks: 0.2 KiB\n",
      "3 memory blocks: 0.2 KiB\n",
      "3 memory blocks: 0.2 KiB\n",
      "3 memory blocks: 0.2 KiB\n",
      "3 memory blocks: 0.2 KiB\n",
      "3 memory blocks: 0.2 KiB\n",
      "3 memory blocks: 0.2 KiB\n",
      "3 memory blocks: 0.2 KiB\n",
      "2 memory blocks: 0.2 KiB\n",
      "3 memory blocks: 0.2 KiB\n",
      "3 memory blocks: 0.2 KiB\n",
      "2 memory blocks: 0.2 KiB\n",
      "2 memory blocks: 0.2 KiB\n",
      "2 memory blocks: 0.2 KiB\n",
      "2 memory blocks: 0.1 KiB\n",
      "2 memory blocks: 0.1 KiB\n",
      "2 memory blocks: 0.1 KiB\n",
      "1 memory blocks: 0.1 KiB\n",
      "1 memory blocks: 0.1 KiB\n",
      "3 memory blocks: 0.1 KiB\n",
      "3 memory blocks: 0.1 KiB\n",
      "2 memory blocks: 0.1 KiB\n",
      "2 memory blocks: 0.1 KiB\n",
      "2 memory blocks: 0.1 KiB\n",
      "2 memory blocks: 0.1 KiB\n",
      "2 memory blocks: 0.1 KiB\n",
      "2 memory blocks: 0.1 KiB\n",
      "2 memory blocks: 0.1 KiB\n",
      "2 memory blocks: 0.1 KiB\n",
      "2 memory blocks: 0.1 KiB\n",
      "2 memory blocks: 0.1 KiB\n",
      "2 memory blocks: 0.1 KiB\n",
      "5 memory blocks: 0.1 KiB\n",
      "1 memory blocks: 0.1 KiB\n",
      "2 memory blocks: 0.1 KiB\n",
      "2 memory blocks: 0.1 KiB\n",
      "1 memory blocks: 0.1 KiB\n",
      "4 memory blocks: 0.1 KiB\n",
      "4 memory blocks: 0.1 KiB\n",
      "3 memory blocks: 0.1 KiB\n",
      "2 memory blocks: 0.1 KiB\n",
      "1 memory blocks: 0.1 KiB\n",
      "1 memory blocks: 0.1 KiB\n",
      "1 memory blocks: 0.1 KiB\n",
      "1 memory blocks: 0.1 KiB\n",
      "1 memory blocks: 0.1 KiB\n",
      "1 memory blocks: 0.1 KiB\n",
      "1 memory blocks: 0.1 KiB\n",
      "3 memory blocks: 0.1 KiB\n",
      "2 memory blocks: 0.1 KiB\n",
      "1 memory blocks: 0.1 KiB\n",
      "1 memory blocks: 0.1 KiB\n",
      "1 memory blocks: 0.1 KiB\n",
      "1 memory blocks: 0.1 KiB\n",
      "1 memory blocks: 0.1 KiB\n",
      "2 memory blocks: 0.1 KiB\n",
      "1 memory blocks: 0.1 KiB\n",
      "1 memory blocks: 0.1 KiB\n",
      "1 memory blocks: 0.1 KiB\n",
      "1 memory blocks: 0.1 KiB\n",
      "1 memory blocks: 0.1 KiB\n",
      "1 memory blocks: 0.1 KiB\n",
      "1 memory blocks: 0.1 KiB\n",
      "1 memory blocks: 0.1 KiB\n",
      "1 memory blocks: 0.1 KiB\n",
      "1 memory blocks: 0.1 KiB\n",
      "1 memory blocks: 0.1 KiB\n",
      "1 memory blocks: 0.1 KiB\n",
      "1 memory blocks: 0.1 KiB\n",
      "1 memory blocks: 0.1 KiB\n",
      "1 memory blocks: 0.1 KiB\n",
      "1 memory blocks: 0.1 KiB\n",
      "1 memory blocks: 0.1 KiB\n",
      "1 memory blocks: 0.1 KiB\n",
      "1 memory blocks: 0.1 KiB\n",
      "1 memory blocks: 0.1 KiB\n",
      "1 memory blocks: 0.1 KiB\n",
      "1 memory blocks: 0.1 KiB\n",
      "1 memory blocks: 0.1 KiB\n",
      "1 memory blocks: 0.1 KiB\n",
      "1 memory blocks: 0.1 KiB\n",
      "1 memory blocks: 0.1 KiB\n",
      "1 memory blocks: 0.1 KiB\n",
      "1 memory blocks: 0.1 KiB\n",
      "1 memory blocks: 0.1 KiB\n",
      "1 memory blocks: 0.1 KiB\n",
      "1 memory blocks: 0.1 KiB\n",
      "1 memory blocks: 0.1 KiB\n",
      "1 memory blocks: 0.1 KiB\n",
      "1 memory blocks: 0.1 KiB\n",
      "1 memory blocks: 0.0 KiB\n",
      "1 memory blocks: 0.0 KiB\n",
      "1 memory blocks: 0.0 KiB\n",
      "1 memory blocks: 0.0 KiB\n",
      "1 memory blocks: 0.0 KiB\n",
      "1 memory blocks: 0.0 KiB\n",
      "1 memory blocks: 0.0 KiB\n",
      "1 memory blocks: 0.0 KiB\n",
      "Total 619.2249593734741 MiB\n"
     ]
    }
   ],
   "source": [
    "s=0\n",
    "for stat in snap.statistics('lineno'):\n",
    "    s = s + stat.size/1024**2\n",
    "    print(\"%s memory blocks: %.1f KiB\" % (stat.count, stat.size / 1024))\n",
    "print(\"Total {} MiB\".format(s))"
   ]
  },
  {
   "cell_type": "code",
   "execution_count": 143,
   "metadata": {},
   "outputs": [
    {
     "name": "stderr",
     "output_type": "stream",
     "text": [
      "/home/harvey/.local/lib/python3.5/site-packages/mondrianforest/classifier.py:76: RuntimeWarning: invalid value encountered in double_scalars\n",
      "  res[label] /= sum_prob\n"
     ]
    },
    {
     "data": {
      "text/plain": [
       "0.9"
      ]
     },
     "execution_count": 143,
     "metadata": {},
     "output_type": "execute_result"
    }
   ],
   "source": [
    "f.score(X,Y)"
   ]
  },
  {
   "cell_type": "code",
   "execution_count": 144,
   "metadata": {},
   "outputs": [
    {
     "data": {
      "text/plain": [
       "56"
      ]
     },
     "execution_count": 144,
     "metadata": {},
     "output_type": "execute_result"
    }
   ],
   "source": [
    "sys.getsizeof(f)"
   ]
  },
  {
   "cell_type": "code",
   "execution_count": 9,
   "metadata": {},
   "outputs": [
    {
     "data": {
      "text/plain": [
       "<mondrianforest.node.MondrianTreeClassifier at 0x7f3782ea52b0>"
      ]
     },
     "execution_count": 9,
     "metadata": {},
     "output_type": "execute_result"
    }
   ],
   "source": [
    "f.trees[1]"
   ]
  },
  {
   "cell_type": "code",
   "execution_count": 16,
   "metadata": {},
   "outputs": [
    {
     "name": "stdout",
     "output_type": "stream",
     "text": [
      "2\n",
      "4\n"
     ]
    },
    {
     "name": "stderr",
     "output_type": "stream",
     "text": [
      "/home/harvey/.local/lib/python3.5/site-packages/mondrianforest/classifier.py:76: RuntimeWarning: invalid value encountered in double_scalars\n",
      "  res[label] /= sum_prob\n"
     ]
    },
    {
     "name": "stdout",
     "output_type": "stream",
     "text": [
      "8\n",
      "16\n",
      "32\n",
      "64\n",
      "128\n",
      "256\n"
     ]
    }
   ],
   "source": [
    "x,y = fake_data(1000,5)\n",
    "X,Y = fake_data(100,5)\n",
    "\n",
    "times = []\n",
    "acc = []\n",
    "n = []\n",
    "for i in range(1,10):\n",
    "    print(2**i)\n",
    "    f = mf.MondrianForestClassifier(n_tree=2**i)\n",
    "    a = time.time()\n",
    "    f.fit(x,y)\n",
    "    times.append(time.time()-a)\n",
    "    #acc.append(f.score(X,Y))\n",
    "    n.append(2**i)"
   ]
  },
  {
   "cell_type": "code",
   "execution_count": 20,
   "metadata": {},
   "outputs": [
    {
     "data": {
      "image/png": "[encoded data removed]",
      "text/plain": [
       "<matplotlib.figure.Figure at 0x7f47cf2b75c0>"
      ]
     },
     "metadata": {},
     "output_type": "display_data"
    }
   ],
   "source": [
    "plt.plot(n, times)\n",
    "plt.show()"
   ]
  },
  {
   "cell_type": "code",
   "execution_count": 22,
   "metadata": {},
   "outputs": [
    {
     "data": {
      "image/png": "[encoded data removed]",
      "text/plain": [
       "<matplotlib.figure.Figure at 0x7f47b27b9668>"
      ]
     },
     "metadata": {},
     "output_type": "display_data"
    }
   ],
   "source": [
    "plt.plot(n, acc)\n",
    "plt.show()"
   ]
  },
  {
   "cell_type": "code",
   "execution_count": 23,
   "metadata": {},
   "outputs": [
    {
     "data": {
      "text/plain": [
       "134.36536192893982"
      ]
     },
     "execution_count": 23,
     "metadata": {},
     "output_type": "execute_result"
    }
   ],
   "source": [
    "f = mf.MondrianForestClassifier(n_tree=512)\n",
    "a = time.time()\n",
    "f.fit(x,y)\n",
    "time.time()-a"
   ]
  },
  {
   "cell_type": "code",
   "execution_count": 26,
   "metadata": {},
   "outputs": [],
   "source": [
    "times.append(134.36536192893982)"
   ]
  },
  {
   "cell_type": "code",
   "execution_count": 25,
   "metadata": {},
   "outputs": [],
   "source": [
    "import pandas as pd"
   ]
  },
  {
   "cell_type": "code",
   "execution_count": 31,
   "metadata": {},
   "outputs": [],
   "source": [
    "d = pd.DataFrame(times)\n",
    "\n",
    "d.to_csv(\"times_py\")"
   ]
  },
  {
   "cell_type": "code",
   "execution_count": 47,
   "metadata": {},
   "outputs": [
    {
     "name": "stdout",
     "output_type": "stream",
     "text": [
      "2\n",
      "4\n",
      "8\n",
      "16\n",
      "32\n",
      "64\n",
      "128\n",
      "256\n",
      "512\n",
      "1024\n",
      "2048\n",
      "4096\n",
      "8192\n",
      "16384\n"
     ]
    }
   ],
   "source": [
    "x,y = fake_data(1000,5)\n",
    "X,Y = fake_data(100,5)\n",
    "\n",
    "times = []\n",
    "acc = []\n",
    "n = []\n",
    "for i in range(1,15):\n",
    "    print(2**i)\n",
    "    x,y = fake_data(2**i,5)\n",
    "    f = mf.MondrianForestClassifier(n_tree=50)\n",
    "    a = time.time()\n",
    "    f.fit(x,y)\n",
    "    times.append(time.time()-a)\n",
    "    #acc.append(f.score(X,Y))\n",
    "    n.append(2**i)"
   ]
  },
  {
   "cell_type": "code",
   "execution_count": 48,
   "metadata": {},
   "outputs": [
    {
     "data": {
      "image/png": "[encoded data removed]",
      "text/plain": [
       "<matplotlib.figure.Figure at 0x7f47a8adb940>"
      ]
     },
     "metadata": {},
     "output_type": "display_data"
    }
   ],
   "source": [
    "plt.plot(n,times)\n",
    "plt.show()"
   ]
  },
  {
   "cell_type": "code",
   "execution_count": 49,
   "metadata": {},
   "outputs": [],
   "source": [
    "d = pd.DataFrame(times)\n",
    "d.to_csv(\"times_py_d\")"
   ]
  },
  {
   "cell_type": "code",
   "execution_count": 50,
   "metadata": {},
   "outputs": [
    {
     "data": {
      "text/html": [
       "<div>\n",
       "<style scoped>\n",
       "    .dataframe tbody tr th:only-of-type {\n",
       "        vertical-align: middle;\n",
       "    }\n",
       "\n",
       "    .dataframe tbody tr th {\n",
       "        vertical-align: top;\n",
       "    }\n",
       "\n",
       "    .dataframe thead th {\n",
       "        text-align: right;\n",
       "    }\n",
       "</style>\n",
       "<table border=\"1\" class=\"dataframe\">\n",
       "  <thead>\n",
       "    <tr style=\"text-align: right;\">\n",
       "      <th></th>\n",
       "      <th>0</th>\n",
       "    </tr>\n",
       "  </thead>\n",
       "  <tbody>\n",
       "    <tr>\n",
       "      <th>0</th>\n",
       "      <td>0.007889</td>\n",
       "    </tr>\n",
       "    <tr>\n",
       "      <th>1</th>\n",
       "      <td>0.020139</td>\n",
       "    </tr>\n",
       "    <tr>\n",
       "      <th>2</th>\n",
       "      <td>0.039706</td>\n",
       "    </tr>\n",
       "    <tr>\n",
       "      <th>3</th>\n",
       "      <td>0.068773</td>\n",
       "    </tr>\n",
       "    <tr>\n",
       "      <th>4</th>\n",
       "      <td>6.505405</td>\n",
       "    </tr>\n",
       "    <tr>\n",
       "      <th>5</th>\n",
       "      <td>0.405493</td>\n",
       "    </tr>\n",
       "    <tr>\n",
       "      <th>6</th>\n",
       "      <td>1.009149</td>\n",
       "    </tr>\n",
       "    <tr>\n",
       "      <th>7</th>\n",
       "      <td>2.184178</td>\n",
       "    </tr>\n",
       "    <tr>\n",
       "      <th>8</th>\n",
       "      <td>5.095971</td>\n",
       "    </tr>\n",
       "    <tr>\n",
       "      <th>9</th>\n",
       "      <td>11.788729</td>\n",
       "    </tr>\n",
       "    <tr>\n",
       "      <th>10</th>\n",
       "      <td>26.976338</td>\n",
       "    </tr>\n",
       "    <tr>\n",
       "      <th>11</th>\n",
       "      <td>62.061779</td>\n",
       "    </tr>\n",
       "    <tr>\n",
       "      <th>12</th>\n",
       "      <td>142.517146</td>\n",
       "    </tr>\n",
       "    <tr>\n",
       "      <th>13</th>\n",
       "      <td>323.137695</td>\n",
       "    </tr>\n",
       "  </tbody>\n",
       "</table>\n",
       "</div>"
      ],
      "text/plain": [
       "             0\n",
       "0     0.007889\n",
       "1     0.020139\n",
       "2     0.039706\n",
       "3     0.068773\n",
       "4     6.505405\n",
       "5     0.405493\n",
       "6     1.009149\n",
       "7     2.184178\n",
       "8     5.095971\n",
       "9    11.788729\n",
       "10   26.976338\n",
       "11   62.061779\n",
       "12  142.517146\n",
       "13  323.137695"
      ]
     },
     "execution_count": 50,
     "metadata": {},
     "output_type": "execute_result"
    }
   ],
   "source": [
    "d"
   ]
  }
 ],
 "metadata": {
  "kernelspec": {
   "display_name": "Python 3",
   "language": "python",
   "name": "python3"
  },
  "language_info": {
   "codemirror_mode": {
    "name": "ipython",
    "version": 3
   },
   "file_extension": ".py",
   "mimetype": "text/x-python",
   "name": "python",
   "nbconvert_exporter": "python",
   "pygments_lexer": "ipython3",
   "version": "3.5.2"
  }
 },
 "nbformat": 4,
 "nbformat_minor": 2
}
