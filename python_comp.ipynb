{
 "cells": [
  {
   "cell_type": "code",
   "execution_count": 77,
   "metadata": {},
   "outputs": [],
   "source": [
    "import mondrianforest as mf\n",
    "import numpy as np\n",
    "import time"
   ]
  },
  {
   "cell_type": "code",
   "execution_count": 9,
   "metadata": {},
   "outputs": [
    {
     "data": {
      "text/plain": [
       "array([[ 0.31025144, -0.98782525],\n",
       "       [-0.68286932, -0.01026428]])"
      ]
     },
     "execution_count": 9,
     "metadata": {},
     "output_type": "execute_result"
    }
   ],
   "source": [
    "np.random.randn(2,2)"
   ]
  },
  {
   "cell_type": "code",
   "execution_count": 48,
   "metadata": {},
   "outputs": [],
   "source": [
    "def fake_data(n,dim):\n",
    "    x = np.random.randn(n,dim)\n",
    "    y = (np.sum(x/(1+np.exp(x)),axis=1))>0\n",
    "    return x,y"
   ]
  },
  {
   "cell_type": "code",
   "execution_count": 51,
   "metadata": {},
   "outputs": [
    {
     "data": {
      "text/plain": [
       "array([[-1.57639258,  0.91472212,  0.72628788, -0.67397812,  0.37652164],\n",
       "       [-0.22487857,  0.59592077, -0.80455397, -1.19205692,  3.22769963],\n",
       "       [-0.09419938, -1.44474396,  0.96113351,  0.42659194, -0.54450559],\n",
       "       ...,\n",
       "       [ 0.3123621 ,  0.50591022,  0.27518764,  0.90444305,  1.18866753],\n",
       "       [ 1.29721444,  1.12202538, -0.63911153, -0.22431251, -0.29927721],\n",
       "       [ 1.14856008,  0.50255549,  0.39621667, -0.26141546,  0.85740406]])"
      ]
     },
     "execution_count": 51,
     "metadata": {},
     "output_type": "execute_result"
    }
   ],
   "source": [
    "x,y = fake_data(1000,5)"
   ]
  },
  {
   "cell_type": "code",
   "execution_count": 84,
   "metadata": {},
   "outputs": [
    {
     "name": "stdout",
     "output_type": "stream",
     "text": [
      "26.640684127807617\n"
     ]
    }
   ],
   "source": [
    "a = time.time()\n",
    "f = mf.MondrianForestClassifier(n_tree=100)\n",
    "f.fit(x,y)\n",
    "print(time.time()-a)"
   ]
  },
  {
   "cell_type": "code",
   "execution_count": 82,
   "metadata": {},
   "outputs": [],
   "source": [
    "X,Y = fake_data(1000,5)"
   ]
  },
  {
   "cell_type": "code",
   "execution_count": 83,
   "metadata": {},
   "outputs": [
    {
     "name": "stderr",
     "output_type": "stream",
     "text": [
      "/home/harvey/.local/lib/python3.5/site-packages/mondrianforest/classifier.py:76: RuntimeWarning: invalid value encountered in double_scalars\n",
      "  res[label] /= sum_prob\n"
     ]
    },
    {
     "data": {
      "text/plain": [
       "0.887"
      ]
     },
     "execution_count": 83,
     "metadata": {},
     "output_type": "execute_result"
    }
   ],
   "source": [
    "f.score(X,Y)"
   ]
  }
 ],
 "metadata": {
  "kernelspec": {
   "display_name": "Python 3",
   "language": "python",
   "name": "python3"
  },
  "language_info": {
   "codemirror_mode": {
    "name": "ipython",
    "version": 3
   },
   "file_extension": ".py",
   "mimetype": "text/x-python",
   "name": "python",
   "nbconvert_exporter": "python",
   "pygments_lexer": "ipython3",
   "version": "3.5.2"
  }
 },
 "nbformat": 4,
 "nbformat_minor": 2
}
