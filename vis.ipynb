{
 "cells": [
  {
   "cell_type": "code",
   "execution_count": 1,
   "metadata": {},
   "outputs": [],
   "source": [
    "include(\"Mondrian_Forest_Classifier.jl\")\n",
    "using Plots"
   ]
  },
  {
   "cell_type": "code",
   "execution_count": 42,
   "metadata": {},
   "outputs": [],
   "source": [
    "using MLBase\n",
    "function Fakedata(n,dim) \n",
    "    x = randn(n,dim)\n",
    "    y = (sum(exp.(x)/(1+exp.(x)),2)).>0.5\n",
    "    return 1.0*x,1*y[:,1]\n",
    "end\n",
    "\n",
    "d=2\n",
    "X, Y = Fakedata(100,d);\n",
    "D = (X,Y.+1)\n",
    "\n",
    "x,y = Fakedata(10,d)\n",
    "D_test = (x,y.+1)\n",
    "\n",
    "# t = y.==1;\n",
    "\n",
    "# using Plots\n",
    "# scatter(x[t.==1,1],x[t.==1,2])\n",
    "# scatter!(x[t.==0,1],x[t.==0,2])"
   ]
  },
  {
   "cell_type": "code",
   "execution_count": 47,
   "metadata": {},
   "outputs": [
    {
     "name": "stdout",
     "output_type": "stream",
     "text": [
      "Train Accuracy\n",
      "0.92\n",
      "Accuracy\n",
      "0.9\n"
     ]
    }
   ],
   "source": [
    "MT = Mondrian_Tree()\n",
    "train!(MT,D[1],D[2],1e1)\n",
    "pred=predict!(MT, D[1])\n",
    "println(\"Train Accuracy\")\n",
    "println(correctrate(D[2],convert(Array{Int,1},pred)))\n",
    "pred=predict!(MT, D_test[1])\n",
    "println(\"Accuracy\") \n",
    "println(correctrate(D_test[2],convert(Array{Int,1},pred)))"
   ]
  },
  {
   "cell_type": "code",
   "execution_count": 4,
   "metadata": {},
   "outputs": [
    {
     "name": "stdout",
     "output_type": "stream",
     "text": [
      "Train Accuracy\n",
      "0.9\n",
      "Accuracy\n",
      "0.73\n"
     ]
    }
   ],
   "source": [
    "MF = Mondrian_Forest_Classifier(100)\n",
    "train!(MF, D[1], D[2], 1e9)\n",
    "pred=predict!(MF, D[1]);\n",
    "println(\"Train Accuracy\")\n",
    "println(correctrate(D[2],convert(Array{Int,1},pred)))\n",
    "pred=predict!(MF, D_test[1])\n",
    "println(\"Accuracy\") \n",
    "println(correctrate(D_test[2],convert(Array{Int,1},pred)))"
   ]
  },
  {
   "cell_type": "code",
   "execution_count": 34,
   "metadata": {},
   "outputs": [
    {
     "data": {
      "text/plain": [
       "show_mondrian_split_2d (generic function with 2 methods)"
      ]
     },
     "execution_count": 34,
     "metadata": {},
     "output_type": "execute_result"
    }
   ],
   "source": [
    "function show_mondrian_split_2d(MT::Mondrian_Tree, times=false)\n",
    "    plot()\n",
    "    τ = []\n",
    "    ζ = []\n",
    "    δ = []\n",
    "    nodes = []\n",
    "    push!(τ,get(MT.root).τ)\n",
    "    push!(ζ,get(get(MT.root).ζ))\n",
    "    push!(δ,get(get(MT.root).δ))\n",
    "    push!(nodes, get(MT.root))\n",
    "    for l in MT.leaves\n",
    "        j = get(l.parent)\n",
    "        while j.node_type[3] != true\n",
    "            if (j in nodes)\n",
    "                break\n",
    "            end\n",
    "            push!(τ, j.τ)\n",
    "            push!(ζ, get(j.ζ))\n",
    "            push!(δ, get(j.δ))\n",
    "            push!(nodes,j)\n",
    "            j = get(j.parent)\n",
    "        end\n",
    "    end\n",
    "    indices = sortperm(τ)\n",
    "    τ = τ[indices]\n",
    "    ζ = ζ[indices]\n",
    "    δ = δ[indices] \n",
    "    nodes = nodes[indices]\n",
    "    for i in 1:size(ζ,1)\n",
    "        int = get(nodes[i].Θ_draw).Intervals\n",
    "        if times\n",
    "            label = round(τ[i],3)\n",
    "        else\n",
    "            label = \"\"\n",
    "        end\n",
    "        if (δ[i] == 1)\n",
    "            x = linspace(int[2,1],int[2,2],20)\n",
    "            plot!(fill(ζ[i],length(x)),x,show=true, label=\"\")\n",
    "            annotate!([(ζ[i], median(x), text(label,6))])\n",
    "        else\n",
    "            x = linspace(int[1,1],int[1,2],20)\n",
    "            plot!(x,fill(ζ[i],length(x)),show=true, label=\"\")\n",
    "            annotate!([(median(x),ζ[i], text(label,6))])\n",
    "        end\n",
    "    end\n",
    "    int = get(nodes[1].Θ_draw).Intervals\n",
    "    xlims!(int[1,1],int[1,2])\n",
    "    ylims!(int[2,1],int[2,2])\n",
    "    title!(\"Mondrian Tree Partitions\")\n",
    "#     xlabel!(\"Dimension 1\")\n",
    "#     ylabel!(\"Box dimension 2\")\n",
    "end"
   ]
  },
  {
   "cell_type": "code",
   "execution_count": 48,
   "metadata": {},
   "outputs": [
    {
     "data": {
      "image/png": "[encoded data removed]"
     },
     "execution_count": 48,
     "metadata": {},
     "output_type": "execute_result"
    }
   ],
   "source": [
    "show_mondrian_split_2d(MT)\n",
    "t = Y.==1;\n",
    "scatter!(X[t.==1,1],X[t.==1,2], color=\"red\", label=\"Class 1\", markershape=:auto)\n",
    "scatter!(X[t.==0,1],X[t.==0,2], color=\"green\", label=\"Class 2\", markershape=:square)\n",
    "plot!(legend =:bottomleft)\n",
    "#savefig(\"part\")"
   ]
  },
  {
   "cell_type": "code",
   "execution_count": 50,
   "metadata": {},
   "outputs": [],
   "source": [
    "plot!(legend =:bottomright)\n",
    "savefig(\"part\")"
   ]
  },
  {
   "cell_type": "code",
   "execution_count": 9,
   "metadata": {},
   "outputs": [
    {
     "data": {
      "text/plain": [
       "([1.3203 -0.753642 … -0.623877 0.282334; 0.0360151 0.653261 … 1.11249 1.02628; … ; 0.865624 -0.318692 … 0.368154 -0.21278; -0.944525 0.831754 … 1.63471 -0.186261], [2, 2, 2, 1, 2, 1, 2, 2, 1, 1  …  2, 2, 1, 1, 1, 2, 2, 1, 1, 2])"
      ]
     },
     "execution_count": 9,
     "metadata": {},
     "output_type": "execute_result"
    }
   ],
   "source": [
    "d=5\n",
    "X, Y = Fakedata(1000,d);\n",
    "D = (X,Y.+1)\n",
    "\n",
    "x,y = Fakedata(100,d)\n",
    "D_test = (x,y.+1)"
   ]
  },
  {
   "cell_type": "code",
   "execution_count": 10,
   "metadata": {},
   "outputs": [
    {
     "name": "stdout",
     "output_type": "stream",
     "text": [
      "2\n",
      "4\n",
      "8\n",
      "16\n",
      "32\n",
      "64\n",
      "128\n",
      "256\n",
      "512\n"
     ]
    }
   ],
   "source": [
    "time = []\n",
    "acc = []\n",
    "x = []\n",
    "for i in collect(1:9)\n",
    "    println(2^i)\n",
    "    push!(x,2^i)\n",
    "    MF = Mondrian_Forest_Classifier(2^i)\n",
    "    t = (@timed train!(MF, D[1], D[2], 1e9))[2]\n",
    "    push!(time,t)\n",
    "    pred=predict!(MF, D_test[1]);\n",
    "    push!(acc,correctrate(D_test[2],convert(Array{Int,1},pred)))\n",
    "end"
   ]
  },
  {
   "cell_type": "code",
   "execution_count": 11,
   "metadata": {},
   "outputs": [
    {
     "name": "stdout",
     "output_type": "stream",
     "text": [
      "Any[0.959011, 0.24629, 0.649824, 0.774067, 2.02488, 4.40358, 9.47458, 21.0614, 42.567]\n",
      "Any[0.78, 0.82, 0.75, 0.84, 0.81, 0.82, 0.82, 0.82, 0.81]\n"
     ]
    }
   ],
   "source": [
    "println(time)\n",
    "println(acc)"
   ]
  },
  {
   "cell_type": "code",
   "execution_count": 12,
   "metadata": {},
   "outputs": [
    {
     "data": {
      "text/plain": [
       "9-element Array{Float64,1}:\n",
       "   0.810814\n",
       "   0.847467\n",
       "   2.28629 \n",
       "   4.0544  \n",
       "   7.72888 \n",
       "  16.0861  \n",
       "  30.8925  \n",
       "  62.0707  \n",
       " 134.365   "
      ]
     },
     "execution_count": 12,
     "metadata": {},
     "output_type": "execute_result"
    }
   ],
   "source": [
    "using JuliaDB\n",
    "times_py = loadtable(\"times_py\")\n",
    "times_py = columns(times_py)[2]"
   ]
  },
  {
   "cell_type": "code",
   "execution_count": 19,
   "metadata": {},
   "outputs": [],
   "source": [
    "#Plots.scalefontsizes(0.5)\n",
    "plot(x,times_py,label=\"Python\")\n",
    "plot!(x,time,label=\"Julia\")\n",
    "scatter!(x,times_py,label=\"\")\n",
    "scatter!(x,time,label=\"\",markershape=:auto)\n",
    "title!(\"Scaling of training time with the number \\n of trees in a Mondrian forest classifier\")\n",
    "xlabel!(\"Number of trees\")\n",
    "ylabel!(\"Training time (seconds)\")\n",
    "savefig(\"n_tree_scale\")"
   ]
  },
  {
   "cell_type": "code",
   "execution_count": 123,
   "metadata": {},
   "outputs": [
    {
     "data": {
      "image/png": "[encoded data removed]"
     },
     "execution_count": 123,
     "metadata": {},
     "output_type": "execute_result"
    }
   ],
   "source": [
    "plot(x,acc,label=\"\")"
   ]
  },
  {
   "cell_type": "code",
   "execution_count": 210,
   "metadata": {},
   "outputs": [
    {
     "name": "stdout",
     "output_type": "stream",
     "text": [
      "2\n",
      "4\n",
      "8\n",
      "16\n",
      "32\n",
      "64\n",
      "128\n",
      "256\n",
      "512\n",
      "1024\n",
      "2048\n",
      "4096\n",
      "8192\n",
      "16384\n"
     ]
    }
   ],
   "source": [
    "time2 = []\n",
    "n = []\n",
    "acc2 =[]\n",
    "\n",
    "for i in collect(1:14)\n",
    "    println(2^i)\n",
    "    push!(n,2^i)\n",
    "    X, Y = Fakedata(2^i,5)\n",
    "    #x,y = Fakedata(100,5)\n",
    "    MF = Mondrian_Forest_Classifier(50)\n",
    "    t = (@timed train!(MF, X, Y, 1e9))[2]\n",
    "    push!(time2, t)\n",
    "    #pred=predict!(MF, x);\n",
    "    #push!(acc,correctrate(y,convert(Array{Int,1},pred)))\n",
    "end"
   ]
  },
  {
   "cell_type": "code",
   "execution_count": 213,
   "metadata": {},
   "outputs": [
    {
     "data": {
      "text/plain": [
       "14-element Array{Float64,1}:\n",
       "   0.00788927\n",
       "   0.020139  \n",
       "   0.0397062 \n",
       "   0.0687733 \n",
       "   6.5054    \n",
       "   0.405493  \n",
       "   1.00915   \n",
       "   2.18418   \n",
       "   5.09597   \n",
       "  11.7887    \n",
       "  26.9763    \n",
       "  62.0618    \n",
       " 142.517     \n",
       " 323.138     "
      ]
     },
     "execution_count": 213,
     "metadata": {},
     "output_type": "execute_result"
    }
   ],
   "source": [
    "times_py_d = loadtable(\"times_py_d\")\n",
    "times_py_d = columns(times_py_d)[2]"
   ]
  },
  {
   "cell_type": "code",
   "execution_count": 215,
   "metadata": {},
   "outputs": [
    {
     "data": {
      "image/png": "[encoded data removed]"
     },
     "execution_count": 215,
     "metadata": {},
     "output_type": "execute_result"
    }
   ],
   "source": [
    "plot(n,time2, label=\"Julia\")\n",
    "scatter!(n,time2, label=\"\")\n",
    "plot!(n,times_py_d, label=\"Python\")\n",
    "scatter!(n,times_py_d, label=\"\")"
   ]
  },
  {
   "cell_type": "code",
   "execution_count": 236,
   "metadata": {},
   "outputs": [
    {
     "data": {
      "text/plain": [
       "14-element Array{Any,1}:\n",
       "   0.00524102\n",
       "   0.00969266\n",
       "   0.0197662 \n",
       "   0.0531366 \n",
       "   0.0702604 \n",
       "   0.142468  \n",
       "   0.337263  \n",
       "   0.966114  \n",
       "   1.45101   \n",
       "   3.26097   \n",
       "  11.793     \n",
       "  36.1138    \n",
       " 119.283     \n",
       " 455.166     "
      ]
     },
     "execution_count": 236,
     "metadata": {},
     "output_type": "execute_result"
    }
   ],
   "source": [
    "time2"
   ]
  },
  {
   "cell_type": "code",
   "execution_count": 228,
   "metadata": {},
   "outputs": [
    {
     "ename": "LoadError",
     "evalue": "\u001b[91mArgumentError: `source` doesn't support the supported streaming types of `sink`: DataType[DataStreams.Data.Field]\u001b[39m",
     "output_type": "error",
     "traceback": [
      "\u001b[91mArgumentError: `source` doesn't support the supported streaming types of `sink`: DataType[DataStreams.Data.Field]\u001b[39m",
      "",
      "Stacktrace:",
      " [1] \u001b[1m#stream!#5\u001b[22m\u001b[22m\u001b[1m(\u001b[22m\u001b[22m::Array{Any,1}, ::Function, ::Array{Any,1}, ::Type{CSV.Sink}, ::Bool, ::Dict{Int64,Function}, ::String, ::Vararg{String,N} where N\u001b[1m)\u001b[22m\u001b[22m at \u001b[1m////////////////////////////////////////////home/harvey/bin/julia-pro/JuliaPro-0.6.2.2/JuliaPro/pkgs-0.6.2.2/v0.6/DataStreams/src/DataStreams.jl:154\u001b[22m\u001b[22m",
      " [2] \u001b[1m#write#36\u001b[22m\u001b[22m\u001b[1m(\u001b[22m\u001b[22m::Bool, ::Dict{Int64,Function}, ::Array{Any,1}, ::Function, ::String, ::Array{Any,1}\u001b[1m)\u001b[22m\u001b[22m at \u001b[1m////////////////////////////////////////////home/harvey/bin/julia-pro/JuliaPro-0.6.2.2/JuliaPro/pkgs-0.6.2.2/v0.6/CSV/src/Sink.jl:150\u001b[22m\u001b[22m",
      " [3] \u001b[1mwrite\u001b[22m\u001b[22m\u001b[1m(\u001b[22m\u001b[22m::String, ::Array{Any,1}\u001b[1m)\u001b[22m\u001b[22m at \u001b[1m////////////////////////////////////////////home/harvey/bin/julia-pro/JuliaPro-0.6.2.2/JuliaPro/pkgs-0.6.2.2/v0.6/CSV/src/Sink.jl:150\u001b[22m\u001b[22m",
      " [4] \u001b[1minclude_string\u001b[22m\u001b[22m\u001b[1m(\u001b[22m\u001b[22m::String, ::String\u001b[1m)\u001b[22m\u001b[22m at \u001b[1m./loading.jl:522\u001b[22m\u001b[22m"
     ]
    }
   ],
   "source": [
    "CSV.write(\"julia_time_d.csv\",time2)"
   ]
  },
  {
   "cell_type": "code",
   "execution_count": 218,
   "metadata": {},
   "outputs": [
    {
     "ename": "DivideError",
     "evalue": "\u001b[91mDivideError: integer division error\u001b[39m",
     "output_type": "error",
     "traceback": [
      "\u001b[91mDivideError: integer division error\u001b[39m",
      "",
      "Stacktrace:",
      " [1] \u001b[1mfld\u001b[22m\u001b[22m at \u001b[1m./int.jl:191\u001b[22m\u001b[22m [inlined]",
      " [2] \u001b[1mmod\u001b[22m\u001b[22m at \u001b[1m./int.jl:171\u001b[22m\u001b[22m [inlined]",
      " [3] \u001b[1mmod1\u001b[22m\u001b[22m\u001b[1m(\u001b[22m\u001b[22m::Int64, ::Int64\u001b[1m)\u001b[22m\u001b[22m at \u001b[1m./operators.jl:649\u001b[22m\u001b[22m",
      " [4] \u001b[1mfix_xy_lengths!\u001b[22m\u001b[22m\u001b[1m(\u001b[22m\u001b[22m::Plots.Plot{Plots.PyPlotBackend}, ::Plots.Series\u001b[1m)\u001b[22m\u001b[22m at \u001b[1m/home/harvey/bin/julia-pro/JuliaPro-0.6.2.2/JuliaPro/pkgs-0.6.2.2/v0.6/Plots/src/backends/pyplot.jl:296\u001b[22m\u001b[22m",
      " [5] \u001b[1mpy_add_series\u001b[22m\u001b[22m\u001b[1m(\u001b[22m\u001b[22m::Plots.Plot{Plots.PyPlotBackend}, ::Plots.Series\u001b[1m)\u001b[22m\u001b[22m at \u001b[1m/home/harvey/bin/julia-pro/JuliaPro-0.6.2.2/JuliaPro/pkgs-0.6.2.2/v0.6/Plots/src/backends/pyplot.jl:452\u001b[22m\u001b[22m",
      " [6] \u001b[1m_before_layout_calcs\u001b[22m\u001b[22m\u001b[1m(\u001b[22m\u001b[22m::Plots.Plot{Plots.PyPlotBackend}\u001b[1m)\u001b[22m\u001b[22m at \u001b[1m/home/harvey/bin/julia-pro/JuliaPro-0.6.2.2/JuliaPro/pkgs-0.6.2.2/v0.6/Plots/src/backends/pyplot.jl:977\u001b[22m\u001b[22m",
      " [7] \u001b[1mprepare_output\u001b[22m\u001b[22m\u001b[1m(\u001b[22m\u001b[22m::Plots.Plot{Plots.PyPlotBackend}\u001b[1m)\u001b[22m\u001b[22m at \u001b[1m/home/harvey/bin/julia-pro/JuliaPro-0.6.2.2/JuliaPro/pkgs-0.6.2.2/v0.6/Plots/src/plot.jl:255\u001b[22m\u001b[22m",
      " [8] \u001b[1mshow\u001b[22m\u001b[22m\u001b[1m(\u001b[22m\u001b[22m::Base64EncodePipe, ::MIME{Symbol(\"image/png\")}, ::Plots.Plot{Plots.PyPlotBackend}\u001b[1m)\u001b[22m\u001b[22m at \u001b[1m/home/harvey/bin/julia-pro/JuliaPro-0.6.2.2/JuliaPro/pkgs-0.6.2.2/v0.6/Plots/src/output.jl:209\u001b[22m\u001b[22m",
      " [9] \u001b[1mbase64encode\u001b[22m\u001b[22m\u001b[1m(\u001b[22m\u001b[22m::Function, ::MIME{Symbol(\"image/png\")}, ::Vararg{Any,N} where N\u001b[1m)\u001b[22m\u001b[22m at \u001b[1m./base64.jl:197\u001b[22m\u001b[22m",
      " [10] \u001b[1mdisplay_dict\u001b[22m\u001b[22m\u001b[1m(\u001b[22m\u001b[22m::Plots.Plot{Plots.PyPlotBackend}\u001b[1m)\u001b[22m\u001b[22m at \u001b[1m/home/harvey/bin/julia-pro/JuliaPro-0.6.2.2/JuliaPro/pkgs-0.6.2.2/v0.6/Plots/src/output.jl:293\u001b[22m\u001b[22m",
      " [11] \u001b[1m(::Compat.#inner#17{Array{Any,1},IJulia.#display_dict,Tuple{Plots.Plot{Plots.PyPlotBackend}}})\u001b[22m\u001b[22m\u001b[1m(\u001b[22m\u001b[22m\u001b[1m)\u001b[22m\u001b[22m at \u001b[1m////////////////////////////////////////////home/harvey/bin/julia-pro/JuliaPro-0.6.2.2/JuliaPro/pkgs-0.6.2.2/v0.6/Compat/src/Compat.jl:385\u001b[22m\u001b[22m",
      " [12] \u001b[1mexecute_request\u001b[22m\u001b[22m\u001b[1m(\u001b[22m\u001b[22m::ZMQ.Socket, ::IJulia.Msg\u001b[1m)\u001b[22m\u001b[22m at \u001b[1m/home/harvey/bin/julia-pro/JuliaPro-0.6.2.2/JuliaPro/pkgs-0.6.2.2/v0.6/IJulia/src/execute_request.jl:186\u001b[22m\u001b[22m",
      " [13] \u001b[1m(::Compat.#inner#17{Array{Any,1},IJulia.#execute_request,Tuple{ZMQ.Socket,IJulia.Msg}})\u001b[22m\u001b[22m\u001b[1m(\u001b[22m\u001b[22m\u001b[1m)\u001b[22m\u001b[22m at \u001b[1m////////////////////////////////////////////home/harvey/bin/julia-pro/JuliaPro-0.6.2.2/JuliaPro/pkgs-0.6.2.2/v0.6/Compat/src/Compat.jl:385\u001b[22m\u001b[22m",
      " [14] \u001b[1meventloop\u001b[22m\u001b[22m\u001b[1m(\u001b[22m\u001b[22m::ZMQ.Socket\u001b[1m)\u001b[22m\u001b[22m at \u001b[1m/home/harvey/bin/julia-pro/JuliaPro-0.6.2.2/JuliaPro/pkgs-0.6.2.2/v0.6/IJulia/src/eventloop.jl:8\u001b[22m\u001b[22m",
      " [15] \u001b[1m(::IJulia.##14#17)\u001b[22m\u001b[22m\u001b[1m(\u001b[22m\u001b[22m\u001b[1m)\u001b[22m\u001b[22m at \u001b[1m./task.jl:335\u001b[22m\u001b[22m"
     ]
    }
   ],
   "source": [
    "plot(n,acc2)"
   ]
  },
  {
   "cell_type": "code",
   "execution_count": null,
   "metadata": {},
   "outputs": [],
   "source": []
  }
 ],
 "metadata": {
  "kernelspec": {
   "display_name": "Julia 0.6.2",
   "language": "julia",
   "name": "julia-0.6"
  },
  "language_info": {
   "file_extension": ".jl",
   "mimetype": "application/julia",
   "name": "julia",
   "version": "0.6.2"
  }
 },
 "nbformat": 4,
 "nbformat_minor": 2
}
