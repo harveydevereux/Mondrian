{
 "cells": [
  {
   "cell_type": "code",
   "execution_count": 1,
   "metadata": {},
   "outputs": [
    {
     "data": {
      "text/plain": [
       "show_mondrian_split_2d (generic function with 2 methods)"
      ]
     },
     "execution_count": 1,
     "metadata": {},
     "output_type": "execute_result"
    }
   ],
   "source": [
    "include(\"Mondrian.jl\")\n",
    "pyplot()"
   ]
  },
  {
   "cell_type": "code",
   "execution_count": 2,
   "metadata": {},
   "outputs": [
    {
     "ename": "LoadError",
     "evalue": "\u001b[91mMethodError: no method matching getindex(::PyPlot.Figure, ::Symbol)\nThe applicable method may be too new: running in world age 21883, while current world is 21891.\u001b[39m",
     "output_type": "error",
     "traceback": [
      "\u001b[91mMethodError: no method matching getindex(::PyPlot.Figure, ::Symbol)\nThe applicable method may be too new: running in world age 21883, while current world is 21891.\u001b[39m",
      "",
      "Stacktrace:",
      " [1] \u001b[1m_before_layout_calcs\u001b[22m\u001b[22m\u001b[1m(\u001b[22m\u001b[22m::Plots.Plot{Plots.PyPlotBackend}\u001b[1m)\u001b[22m\u001b[22m at \u001b[1m/home/harvey/bin/julia-pro/JuliaPro-0.6.2.2/JuliaPro/pkgs-0.6.2.2/v0.6/Plots/src/backends/pyplot.jl:961\u001b[22m\u001b[22m",
      " [2] \u001b[1mprepare_output\u001b[22m\u001b[22m\u001b[1m(\u001b[22m\u001b[22m::Plots.Plot{Plots.PyPlotBackend}\u001b[1m)\u001b[22m\u001b[22m at \u001b[1m/home/harvey/bin/julia-pro/JuliaPro-0.6.2.2/JuliaPro/pkgs-0.6.2.2/v0.6/Plots/src/plot.jl:255\u001b[22m\u001b[22m",
      " [3] \u001b[1mdisplay\u001b[22m\u001b[22m at \u001b[1m/home/harvey/bin/julia-pro/JuliaPro-0.6.2.2/JuliaPro/pkgs-0.6.2.2/v0.6/Plots/src/output.jl:144\u001b[22m\u001b[22m [inlined]",
      " [4] \u001b[1mgui\u001b[22m\u001b[22m at \u001b[1m/home/harvey/bin/julia-pro/JuliaPro-0.6.2.2/JuliaPro/pkgs-0.6.2.2/v0.6/Plots/src/output.jl:134\u001b[22m\u001b[22m [inlined]",
      " [5] \u001b[1m_do_plot_show\u001b[22m\u001b[22m\u001b[1m(\u001b[22m\u001b[22m::Plots.Plot{Plots.PyPlotBackend}, ::Bool\u001b[1m)\u001b[22m\u001b[22m at \u001b[1m/home/harvey/bin/julia-pro/JuliaPro-0.6.2.2/JuliaPro/pkgs-0.6.2.2/v0.6/Plots/src/output.jl:152\u001b[22m\u001b[22m",
      " [6] \u001b[1m_plot!\u001b[22m\u001b[22m\u001b[1m(\u001b[22m\u001b[22m::Plots.Plot{Plots.PyPlotBackend}, ::Dict{Symbol,Any}, ::Tuple{StepRangeLen{Float64,Base.TwicePrecision{Float64},Base.TwicePrecision{Float64}},Array{Float64,1}}\u001b[1m)\u001b[22m\u001b[22m at \u001b[1m/home/harvey/bin/julia-pro/JuliaPro-0.6.2.2/JuliaPro/pkgs-0.6.2.2/v0.6/Plots/src/plot.jl:246\u001b[22m\u001b[22m",
      " [7] \u001b[1m#plot#202\u001b[22m\u001b[22m\u001b[1m(\u001b[22m\u001b[22m::Array{Any,1}, ::Function, ::StepRangeLen{Float64,Base.TwicePrecision{Float64},Base.TwicePrecision{Float64}}, ::Vararg{Any,N} where N\u001b[1m)\u001b[22m\u001b[22m at \u001b[1m/home/harvey/bin/julia-pro/JuliaPro-0.6.2.2/JuliaPro/pkgs-0.6.2.2/v0.6/Plots/src/plot.jl:58\u001b[22m\u001b[22m",
      " [8] \u001b[1m(::RecipesBase.#kw##plot)\u001b[22m\u001b[22m\u001b[1m(\u001b[22m\u001b[22m::Array{Any,1}, ::RecipesBase.#plot, ::StepRangeLen{Float64,Base.TwicePrecision{Float64},Base.TwicePrecision{Float64}}, ::Array{Float64,1}, ::Vararg{Array{Float64,1},N} where N\u001b[1m)\u001b[22m\u001b[22m at \u001b[1m./<missing>:0\u001b[22m\u001b[22m",
      " [9] \u001b[1m#plot!#206\u001b[22m\u001b[22m\u001b[1m(\u001b[22m\u001b[22m::Array{Any,1}, ::Function, ::StepRangeLen{Float64,Base.TwicePrecision{Float64},Base.TwicePrecision{Float64}}, ::Vararg{Any,N} where N\u001b[1m)\u001b[22m\u001b[22m at \u001b[1m/home/harvey/bin/julia-pro/JuliaPro-0.6.2.2/JuliaPro/pkgs-0.6.2.2/v0.6/Plots/src/plot.jl:149\u001b[22m\u001b[22m",
      " [10] \u001b[1m(::RecipesBase.#kw##plot!)\u001b[22m\u001b[22m\u001b[1m(\u001b[22m\u001b[22m::Array{Any,1}, ::RecipesBase.#plot!, ::StepRangeLen{Float64,Base.TwicePrecision{Float64},Base.TwicePrecision{Float64}}, ::Array{Float64,1}, ::Vararg{Array{Float64,1},N} where N\u001b[1m)\u001b[22m\u001b[22m at \u001b[1m./<missing>:0\u001b[22m\u001b[22m",
      " [11] \u001b[1mshow_mondrian_split_2d\u001b[22m\u001b[22m\u001b[1m(\u001b[22m\u001b[22m::Array{Any,1}, ::Bool\u001b[1m)\u001b[22m\u001b[22m at \u001b[1m/home/harvey/Group Project/Mondrian/Mondrian.jl:49\u001b[22m\u001b[22m",
      " [12] \u001b[1minclude_string\u001b[22m\u001b[22m\u001b[1m(\u001b[22m\u001b[22m::String, ::String\u001b[1m)\u001b[22m\u001b[22m at \u001b[1m./loading.jl:522\u001b[22m\u001b[22m"
     ]
    }
   ],
   "source": [
    "Θ = Axis_Aligned_Box([0 1; 0 1])\n",
    "l,c = Mondrian_process(Θ, 1);\n",
    "show_mondrian_split_2d(c,true)"
   ]
  },
  {
   "cell_type": "code",
   "execution_count": null,
   "metadata": {},
   "outputs": [],
   "source": []
  }
 ],
 "metadata": {
  "kernelspec": {
   "display_name": "julia-pro 0.6.2",
   "language": "julia",
   "name": "julia-pro-0.6"
  },
  "language_info": {
   "file_extension": ".jl",
   "mimetype": "application/julia",
   "name": "julia",
   "version": "0.6.2"
  }
 },
 "nbformat": 4,
 "nbformat_minor": 2
}
